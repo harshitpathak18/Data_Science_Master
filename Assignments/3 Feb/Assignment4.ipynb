{
 "cells": [
  {
   "cell_type": "markdown",
   "metadata": {},
   "source": [
    "### Q1. Which keyword is used to create a function? Create a function to return a list of odd numbers in the  range of 1 to 25. "
   ]
  },
  {
   "cell_type": "markdown",
   "metadata": {},
   "source": [
    "* def keyword is used to create a function"
   ]
  },
  {
   "cell_type": "code",
   "execution_count": 7,
   "metadata": {},
   "outputs": [
    {
     "data": {
      "text/plain": [
       "[1, 3, 5, 7, 9, 11, 13, 15, 17, 19, 21, 23]"
      ]
     },
     "execution_count": 7,
     "metadata": {},
     "output_type": "execute_result"
    }
   ],
   "source": [
    "# function definition \n",
    "def odd_number(n):\n",
    "    List=[]\n",
    "    for i in range(1,n):\n",
    "        if i%2!=0:\n",
    "            List.append(i)\n",
    "    return List\n",
    "\n",
    "# call function\n",
    "odd_number(25)"
   ]
  },
  {
   "cell_type": "markdown",
   "metadata": {},
   "source": [
    "### Q2. Why *args and **kwargs is used in some functions? Create a function each for *args and **kwargs to  demonstrate their use. "
   ]
  },
  {
   "cell_type": "markdown",
   "metadata": {},
   "source": [
    "* *args is used to pass multiple non-keyword arguments in function.\n",
    "* **kwargs is used to pass multiple key-word arguments in function.\n"
   ]
  },
  {
   "cell_type": "code",
   "execution_count": 11,
   "metadata": {},
   "outputs": [
    {
     "name": "stdout",
     "output_type": "stream",
     "text": [
      "String\n",
      "45\n",
      "[1, 2, 3, 4]\n",
      "(5, 6, 7, 8)\n",
      "{'a', 'c', 'b'}\n"
     ]
    }
   ],
   "source": [
    "# *args\n",
    "def non_keyword_arguments(*args):\n",
    "    for arg in args:\n",
    "        print(arg)\n",
    "        \n",
    "non_keyword_arguments(\"String\",45,[1,2,3,4],(5,6,7,8),{\"a\",'b','c'})"
   ]
  },
  {
   "cell_type": "code",
   "execution_count": 17,
   "metadata": {},
   "outputs": [
    {
     "name": "stdout",
     "output_type": "stream",
     "text": [
      "('string', 'This is string')\n",
      "('number', 18)\n",
      "('List', (1, 2, 3, 4, 5))\n",
      "('Set', {'d', 'a', 'c', 'b'})\n"
     ]
    }
   ],
   "source": [
    "# **kwargs\n",
    "def keyword_arguements(**kwargs):\n",
    "    for item in kwargs.items():\n",
    "        print(item)\n",
    "        \n",
    "keyword_arguements(string=\"This is string\",number=18,List=(1,2,3,4,5),Set={'a','b','c','d'})"
   ]
  },
  {
   "cell_type": "markdown",
   "metadata": {},
   "source": [
    "### Q3.  What is an iterator in python? Name the method used to initialise the iterator object and the method  used for iteration. Use these methods to print the first five elements of the given list [2, 4, 6, 8, 10, 12, 14, 16,  18, 20]. "
   ]
  },
  {
   "cell_type": "markdown",
   "metadata": {},
   "source": [
    "* Iterator in python is an object that is used to iterate over iterable objects like lists, tuples, dicts, and sets. \n",
    "* iter() method is used to initialize the iterator object and next() method is used for iteration"
   ]
  },
  {
   "cell_type": "code",
   "execution_count": 46,
   "metadata": {},
   "outputs": [
    {
     "name": "stdout",
     "output_type": "stream",
     "text": [
      "2\n",
      "4\n",
      "6\n",
      "8\n",
      "10\n"
     ]
    }
   ],
   "source": [
    "List=[2, 4, 6, 8, 10, 12, 14, 16, 18, 20]\n",
    "\n",
    "Iterator=iter(List)\n",
    "for i in range(5):\n",
    "    print(next(Iterator))"
   ]
  },
  {
   "cell_type": "markdown",
   "metadata": {},
   "source": [
    "### Q4.  What is a generator function in python? Why yield keyword is used? Give an example of a generator  function. \n"
   ]
  },
  {
   "cell_type": "markdown",
   "metadata": {},
   "source": [
    "* A generator-function is like a normal function, but whenever it needs to generate a value, it does so with the yield keyword rather than return. If the body of a def contains yield, the function automatically becomes a generator function. "
   ]
  },
  {
   "cell_type": "code",
   "execution_count": 54,
   "metadata": {},
   "outputs": [
    {
     "name": "stdout",
     "output_type": "stream",
     "text": [
      "1\n",
      "3\n",
      "5\n",
      "7\n",
      "9\n"
     ]
    }
   ],
   "source": [
    "# Example\n",
    "def odd(n):\n",
    "    for i in range(n):\n",
    "        if i%2!=0:\n",
    "            yield i \n",
    "\n",
    "for i in odd(10):\n",
    "    print(i)"
   ]
  },
  {
   "cell_type": "markdown",
   "metadata": {},
   "source": [
    "### Q5. Create a generator function for prime numbers less than 1000. Use the next() method to print the  first 20 prime numbers."
   ]
  },
  {
   "cell_type": "code",
   "execution_count": 67,
   "metadata": {
    "scrolled": false
   },
   "outputs": [
    {
     "name": "stdout",
     "output_type": "stream",
     "text": [
      "2\n",
      "3\n",
      "5\n",
      "7\n",
      "11\n",
      "13\n",
      "17\n",
      "19\n",
      "23\n",
      "29\n",
      "31\n",
      "37\n",
      "41\n",
      "43\n",
      "47\n",
      "53\n",
      "59\n",
      "61\n",
      "67\n",
      "71\n"
     ]
    }
   ],
   "source": [
    "def prime_number(n):\n",
    "    for i in range(0, n+1):\n",
    "        if(i>1):\n",
    "            for j in range(2,i):\n",
    "                if(i%j)==0:\n",
    "                    break\n",
    "            else:\n",
    "                yield i\n",
    "                    \n",
    "prime_no= prime_number(1000)\n",
    "\n",
    "for i in range(20):\n",
    "    print(next(prime_no))"
   ]
  },
  {
   "cell_type": "code",
   "execution_count": null,
   "metadata": {},
   "outputs": [],
   "source": []
  },
  {
   "cell_type": "code",
   "execution_count": null,
   "metadata": {},
   "outputs": [],
   "source": []
  }
 ],
 "metadata": {
  "kernelspec": {
   "display_name": "Python 3",
   "language": "python",
   "name": "python3"
  },
  "language_info": {
   "codemirror_mode": {
    "name": "ipython",
    "version": 3
   },
   "file_extension": ".py",
   "mimetype": "text/x-python",
   "name": "python",
   "nbconvert_exporter": "python",
   "pygments_lexer": "ipython3",
   "version": "3.8.5"
  }
 },
 "nbformat": 4,
 "nbformat_minor": 4
}

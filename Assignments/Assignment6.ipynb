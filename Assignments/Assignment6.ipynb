{
 "cells": [
  {
   "cell_type": "markdown",
   "metadata": {},
   "source": [
    "### Q1. Explain Class and Object with respect to Object-Oriented Programming. Give a suitable example."
   ]
  },
  {
   "cell_type": "markdown",
   "metadata": {},
   "source": [
    "* **class** is a collection data attributes and functions \n",
    "* **object** is an instance of class"
   ]
  },
  {
   "cell_type": "code",
   "execution_count": 38,
   "metadata": {},
   "outputs": [
    {
     "name": "stdout",
     "output_type": "stream",
     "text": [
      "Car Details---\n",
      "Company : Ford\n",
      "Year : 2017\n",
      "Model : Mustang 5.0 GT Auto\n"
     ]
    }
   ],
   "source": [
    "# Example\n",
    "class car:\n",
    "    def __init__(self,company=\"Ford\",model=\"Mustang 5.0 GT Auto\",year=2017):\n",
    "        self.company=company\n",
    "        self.model=model\n",
    "        self.year=year\n",
    "    \n",
    "    def show(self):\n",
    "        print(\"Car Details---\")\n",
    "        print(f\"Company : {self.company}\")\n",
    "        print(f\"Year : {self.year}\")\n",
    "        print(f\"Model : {self.model}\")\n",
    "    \n",
    "car_obj=car()\n",
    "car_obj.show()"
   ]
  },
  {
   "cell_type": "markdown",
   "metadata": {},
   "source": [
    "###  Q2. Name the four pillars of OOPs. \n"
   ]
  },
  {
   "cell_type": "markdown",
   "metadata": {},
   "source": [
    "Four Pillars of OOPs are:\n",
    "1. **Inheritance**\n",
    "2. **Polymorphism**\n",
    "3. **Encapsulation** \n",
    "4. **Abstraction**"
   ]
  },
  {
   "cell_type": "markdown",
   "metadata": {},
   "source": [
    "### Q3. Explain why the __init__() function is used. Give a suitable example. "
   ]
  },
  {
   "cell_type": "markdown",
   "metadata": {},
   "source": [
    "*  The _ init _ function is called a constructor, or initializer, and is automatically called when a new instance of a class is created"
   ]
  },
  {
   "cell_type": "code",
   "execution_count": 39,
   "metadata": {},
   "outputs": [
    {
     "name": "stdout",
     "output_type": "stream",
     "text": [
      "Name : Harshit\n",
      "Age : 21\n",
      "Favourite Sport : Cricket\n"
     ]
    }
   ],
   "source": [
    "# Example\n",
    "class Person:\n",
    "    def __init__(self,Name,Age,Fav_Sport):\n",
    "        self.Name=Name\n",
    "        self.Age=Age\n",
    "        self.Fav_Sport=Fav_Sport\n",
    "    \n",
    "    def show(self):\n",
    "        print(f\"Name : {self.Name}\")\n",
    "        print(f\"Age : {self.Age}\")\n",
    "        print(f\"Favourite Sport : {self.Fav_Sport}\")\n",
    "    \n",
    "person1=Person(\"Harshit\",21,\"Cricket\")\n",
    "person1.show()"
   ]
  },
  {
   "cell_type": "markdown",
   "metadata": {},
   "source": [
    "### Q4. Why self is used in OOPs? "
   ]
  },
  {
   "cell_type": "markdown",
   "metadata": {},
   "source": [
    "* self is a parameter which is a reference to the current instance of the class, and is used to access variables that belongs to the class."
   ]
  },
  {
   "cell_type": "markdown",
   "metadata": {},
   "source": [
    "### Q5. What is inheritance? Give an example for each type of inheritance. "
   ]
  },
  {
   "cell_type": "markdown",
   "metadata": {},
   "source": [
    "* Inheritance is a process of deriving the class from another class, the derived class is known as child class and the class which got inherited is known as parent calss\n",
    "\n",
    "\n",
    "* Inheritance provides the reusability of a code. We don’t have to write the same code again and again. Also, it allows us to add more features to a class without modifying it.\n",
    "\n",
    "* Types of inheritance in python are-\n",
    "1. Single inheritance\n",
    "2. Multiple inheritance\n",
    "3. Multilevel inheritance"
   ]
  },
  {
   "cell_type": "code",
   "execution_count": 40,
   "metadata": {},
   "outputs": [
    {
     "name": "stdout",
     "output_type": "stream",
     "text": [
      "Anime is Naruto\n",
      "Character is Itachi\n"
     ]
    }
   ],
   "source": [
    "# 1.Single Inheritance\n",
    "\n",
    "class Anime:        \n",
    "    def __init__(self,anime_name):\n",
    "        self.character_name=character_name\n",
    "        \n",
    "    def anime_name():\n",
    "        print(\"Anime is Naruto\") \n",
    "\n",
    "class Character(Anime):    \n",
    "    def __init__(self,character_name):\n",
    "        self.character_name=character_name\n",
    "    \n",
    "    def show_details(self):\n",
    "        Anime.anime_name()\n",
    "        print(\"Character is\",self.character_name)\n",
    "        \n",
    "c1=Character(\"Itachi\")\n",
    "c1.show_details()"
   ]
  },
  {
   "cell_type": "code",
   "execution_count": 41,
   "metadata": {},
   "outputs": [
    {
     "name": "stdout",
     "output_type": "stream",
     "text": [
      "Father - Sasuke Uchiha\n",
      "Mother - Sakura Haruno\n",
      "Child - Sharda Uchiha\n"
     ]
    }
   ],
   "source": [
    "# 2.Multiple Inheritance\n",
    "\n",
    "class Father:        \n",
    "    def __init__(self,father_name):\n",
    "        self.father_name=father_name\n",
    "\n",
    "class Mother:        \n",
    "    def __init__(self,mother_name):\n",
    "        self.mother_name=mother_name\n",
    "        \n",
    "class Child(Father,Mother):    \n",
    "    def __init__(self,child_name,father_name,mother_name):\n",
    "        Father.father_name=father_name\n",
    "        Mother.mother_name=mother_name\n",
    "        self.child_name=child_name\n",
    "    \n",
    "    def show_details(self):\n",
    "        print(\"Father -\",Father.father_name)\n",
    "        print(\"Mother -\",Mother.mother_name)\n",
    "        print(\"Child -\",self.child_name)\n",
    "\n",
    "\n",
    "child=Child(\"Sharda Uchiha\",\"Sasuke Uchiha\",\"Sakura Haruno\")\n",
    "child.show_details()"
   ]
  },
  {
   "cell_type": "code",
   "execution_count": 42,
   "metadata": {},
   "outputs": [
    {
     "name": "stdout",
     "output_type": "stream",
     "text": [
      "Employee : Mark\n",
      "Salary : $5000\n",
      "Designation: Data Analyst\n"
     ]
    }
   ],
   "source": [
    "# Multi-level Inheritance\n",
    "\n",
    "class Designation:\n",
    "    def designation(self):\n",
    "        print(\"Designation: Data Analyst\")\n",
    "\n",
    "class Salary(Designation):\n",
    "    def Salary(self):\n",
    "        print(\"Salary : $5000\")     \n",
    "\n",
    "class Employees(Salary):\n",
    "    def Name(self): \n",
    "        print(\"Employee : Mark\")\n",
    "\n",
    "emp=Employees()\n",
    "emp.Name()\n",
    "emp.Salary()\n",
    "emp.designation()"
   ]
  },
  {
   "cell_type": "code",
   "execution_count": null,
   "metadata": {},
   "outputs": [],
   "source": []
  }
 ],
 "metadata": {
  "kernelspec": {
   "display_name": "Python 3",
   "language": "python",
   "name": "python3"
  },
  "language_info": {
   "codemirror_mode": {
    "name": "ipython",
    "version": 3
   },
   "file_extension": ".py",
   "mimetype": "text/x-python",
   "name": "python",
   "nbconvert_exporter": "python",
   "pygments_lexer": "ipython3",
   "version": "3.8.5"
  }
 },
 "nbformat": 4,
 "nbformat_minor": 4
}

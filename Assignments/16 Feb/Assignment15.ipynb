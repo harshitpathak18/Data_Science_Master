{
 "cells": [
  {
   "cell_type": "markdown",
   "metadata": {},
   "source": [
    "### Q1. What is a database? Differentiate between SQL and NoSQL databases."
   ]
  },
  {
   "cell_type": "markdown",
   "metadata": {},
   "source": [
    "* **Database** - an organized collection of data and information or interrelated data collected at one place. It allows for efficient storage, retrieval, and manipulation of large amounts of data. A database system typically consists of software that manages the data, a database server that stores the data, and one or more applications that access the data."
   ]
  },
  {
   "cell_type": "markdown",
   "metadata": {},
   "source": [
    "\n",
    "|SQL|NoSQL|\n",
    "|-|-|\n",
    "|Relational Database Management SYstem (RDBMS)|Non-relational or Distributed Database System.|\n",
    "|These databases have fixed or static or predefined schema|They have dynamic schema|\n",
    "|These databases are not suited for hierarchical data storage.|These databases are best suited for hierarchical data storage.|\n",
    "|These databases are best suited for complex queries|These databases are not so good for complex queries|\n",
    "|Vertically Scalable|\tHorizontally scalable|\n",
    "|Follows ACID property(Atomicity,Consistency,Isolation,Durability)|\tFollows CAP(Consistency, Availability, Partition tolerance)|\n",
    "|Examples: MySQL, PostgreSQL, Oracle, MS-SQL Server, etc|\tExamples: MongoDB, GraphQL, HBase, Neo4j, Cassandra, etc|"
   ]
  },
  {
   "cell_type": "markdown",
   "metadata": {},
   "source": [
    "### Q2. What is DDL? Explain why CREATE, DROP, ALTER, and TRUNCATE are used with an example."
   ]
  },
  {
   "cell_type": "markdown",
   "metadata": {},
   "source": [
    "* **DDL**- DDL stands for Data Definition Language, it consists of the SQL commands that can be used to define the database schema. It simply deals with descriptions of the database schema and is used to create and modify the structure of database objects in the database. DDL is a set of SQL commands used to create, modify, and delete database structures but not data. These commands are normally not used by a general user, who should be accessing the database via an application."
   ]
  },
  {
   "cell_type": "markdown",
   "metadata": {},
   "source": [
    "#### CREATE:- It is used to create a database and its objects like (table, index, views, store procedure, function, and triggers)"
   ]
  },
  {
   "cell_type": "code",
   "execution_count": 29,
   "metadata": {},
   "outputs": [],
   "source": [
    "import mysql.connector as connector\n",
    "\n",
    "con = connector.connect(host=\"localhost\",user=\"sqluser\", password=\"password\", auth_plugin='mysql_native_password',database='MyDataBase')\n",
    "cursor = con.cursor()"
   ]
  },
  {
   "cell_type": "code",
   "execution_count": 26,
   "metadata": {},
   "outputs": [
    {
     "name": "stdout",
     "output_type": "stream",
     "text": [
      "Table named DatabaseTable is created\n"
     ]
    }
   ],
   "source": [
    "# CREATE Example- here we will create table\n",
    "cursor.execute(\"Create Table If Not Exists DatabaseTable(String_Column VARCHAR(255), Integer_Column int)\")\n",
    "print(\"Table named DatabaseTable is created\")"
   ]
  },
  {
   "cell_type": "markdown",
   "metadata": {},
   "source": [
    "#### DROP: - It used to delete a whole database or just a table.The DROP statement destroys the objects like an existing database, table, index, or view. A DROP statement in SQL removes a component from a relational database management system"
   ]
  },
  {
   "cell_type": "code",
   "execution_count": 27,
   "metadata": {},
   "outputs": [
    {
     "name": "stdout",
     "output_type": "stream",
     "text": [
      "Database is deleted\n"
     ]
    }
   ],
   "source": [
    "# Drop Example- here we will drop database\n",
    "cursor.execute(\"Drop Database If Exists MyDB\")\n",
    "print(\"Database is deleted\")"
   ]
  },
  {
   "cell_type": "markdown",
   "metadata": {},
   "source": [
    "#### ALTER: This is used to alter the structure of the database."
   ]
  },
  {
   "cell_type": "code",
   "execution_count": 30,
   "metadata": {},
   "outputs": [
    {
     "name": "stdout",
     "output_type": "stream",
     "text": [
      "Column is added to the database\n"
     ]
    }
   ],
   "source": [
    "# Alter Example- here we will alter database\n",
    "cursor.execute(\"Alter Table DatabaseTable Add ExtraColumn varchar(255)\")\n",
    "print(\"Column is added to the database\")"
   ]
  },
  {
   "cell_type": "markdown",
   "metadata": {},
   "source": [
    "#### TRUNCATE:- This is used to remove all records from a table, including all spaces allocated for the records are removed."
   ]
  },
  {
   "cell_type": "code",
   "execution_count": 3,
   "metadata": {},
   "outputs": [
    {
     "name": "stdout",
     "output_type": "stream",
     "text": [
      "Table is truncated\n"
     ]
    }
   ],
   "source": [
    "# Truncate Example- here we will truncate table\n",
    "import mysql.connector\n",
    "\n",
    "mydb = mysql.connector.connect( host=\"localhost\",\n",
    "                                user=\"sqluser\",\n",
    "                                password=\"password\",\n",
    "                                auth_plugin='mysql_native_password',\n",
    "                                database=\"test1\")\n",
    "\n",
    "mycursor = mydb.cursor()\n",
    "mycursor.execute(\"Truncate Table test_table\")\n",
    "mydb.commit()\n",
    "mydb.close()\n",
    "\n",
    "print(\"Table is truncated\")"
   ]
  },
  {
   "cell_type": "markdown",
   "metadata": {},
   "source": [
    "### Q3. What is DML? Explain INSERT, UPDATE, and DELETE with an example."
   ]
  },
  {
   "cell_type": "markdown",
   "metadata": {},
   "source": [
    "* **DML**- It stands for Data Manipultaing Language,it deals with the manipulation of data present in the database belong to DML or Data Manipulation Language and this includes most of the SQL statements. It is the component of the SQL statement that controls access to data and to the database."
   ]
  },
  {
   "cell_type": "code",
   "execution_count": 49,
   "metadata": {},
   "outputs": [],
   "source": [
    "import mysql.connector as connector\n",
    "\n",
    "mydb=connector.connect(host=\"localhost\",user=\"sqluser\",password=\"password\",auth_plugin='mysql_native_password',database=\"ExampleDB\")\n",
    "cursor=mydb.cursor()\n",
    "\n",
    "cursor.execute(\"Create Table If Not Exists Student(First_name varchar(100),Last_name varchar(100),Roll_no varchar(40))\")\n",
    "\n",
    "def row_wise_data():\n",
    "    cursor.execute(\"Select * from Student\")\n",
    "    for i in cursor:\n",
    "        print(i)"
   ]
  },
  {
   "cell_type": "markdown",
   "metadata": {},
   "source": [
    "* **INSERT : It is used to insert data into a table.**\n"
   ]
  },
  {
   "cell_type": "code",
   "execution_count": 50,
   "metadata": {},
   "outputs": [
    {
     "name": "stdout",
     "output_type": "stream",
     "text": [
      "('Harshit', 'Pathak', 'Mau20usc019')\n",
      "('Tushar', 'Sharma', 'Mau20usc002')\n"
     ]
    }
   ],
   "source": [
    "# INSERT Example-\n",
    "cursor.execute(\"Insert Into Student(First_name,Last_name,Roll_no) Values('Tushar','Sharma','Mau20usc002')\")\n",
    "mydb.commit()\n",
    "\n",
    "row_wise_data()"
   ]
  },
  {
   "cell_type": "markdown",
   "metadata": {},
   "source": [
    "* **UPDATE: It is used to update existing data within a table.**\n"
   ]
  },
  {
   "cell_type": "code",
   "execution_count": 51,
   "metadata": {},
   "outputs": [
    {
     "name": "stdout",
     "output_type": "stream",
     "text": [
      "('Harshit', 'Kumar Pathak', 'Mau20usc019')\n",
      "('Tushar', 'Sharma', 'Mau20usc002')\n"
     ]
    }
   ],
   "source": [
    "# UpdateExample-\n",
    "cursor.execute(\"Update Student Set Last_name='Kumar Pathak' where First_Name='Harshit'\")\n",
    "mydb.commit()\n",
    "\n",
    "row_wise_data()"
   ]
  },
  {
   "cell_type": "markdown",
   "metadata": {},
   "source": [
    "* **DELETE : It is used to delete records from a database table**\n",
    "        "
   ]
  },
  {
   "cell_type": "code",
   "execution_count": 52,
   "metadata": {},
   "outputs": [
    {
     "name": "stdout",
     "output_type": "stream",
     "text": [
      "('Harshit', 'Kumar Pathak', 'Mau20usc019')\n"
     ]
    }
   ],
   "source": [
    "# DeleteExample\n",
    "cursor.execute(\"Delete From Student where First_name='Tushar'\")\n",
    "mydb.commit()\n",
    "\n",
    "row_wise_data()"
   ]
  },
  {
   "cell_type": "markdown",
   "metadata": {},
   "source": [
    "### Q4. What is DQL? Explain SELECT with an example."
   ]
  },
  {
   "cell_type": "markdown",
   "metadata": {},
   "source": [
    "* **DQL** stand for Data Query Language, DQL statements are used for performing queries on the data within schema objects. The purpose of the DQL Command is to get some schema relation based on the query passed to it. We can define DQL as follows it is a component of SQL statement that allows getting data from the database and imposing order upon it. It includes the SELECT statement. "
   ]
  },
  {
   "cell_type": "markdown",
   "metadata": {},
   "source": [
    "* **SELECT**: - It is used to retrieve data from the database."
   ]
  },
  {
   "cell_type": "code",
   "execution_count": 65,
   "metadata": {},
   "outputs": [
    {
     "name": "stdout",
     "output_type": "stream",
     "text": [
      "(18, 'Harshit', 19, 345.0, 'Pathak')\n",
      "(18, 'Harshit', 19, 345.0, 'Pathak')\n",
      "(18, 'Harshit', 19, 345.0, 'Pathak')\n",
      "(18, 'Harshit', 19, 345.0, 'Pathak')\n",
      "(18, 'Harshit', 19, 345.0, 'Pathak')\n"
     ]
    }
   ],
   "source": [
    "# Example-SELECT\n",
    "\n",
    "import mysql.connector as connector\n",
    "\n",
    "mydb=connector.connect(host=\"localhost\",user=\"sqluser\",password=\"password\",auth_plugin='mysql_native_password',database=\"test1\")\n",
    "cursor=mydb.cursor()\n",
    "\n",
    "cursor.execute(\"Select * from test_table\")\n",
    "\n",
    "for i in cursor:\n",
    "    print(i)"
   ]
  },
  {
   "cell_type": "markdown",
   "metadata": {},
   "source": [
    "### Q5. Explain Primary Key and Foreign Key."
   ]
  },
  {
   "cell_type": "markdown",
   "metadata": {},
   "source": [
    "* **Primary Key**: A primary key is used to ensure that data in the specific column is unique. A column cannot have NULL values. It is either an existing table column or a column that is specifically generated by the database according to a defined sequence. \n",
    "\n",
    "        Example:STUD_NO, as well as STUD_PHONE both, are candidate keys for relation STUDENT but STUD_NO can be \n",
    "        chosen as the primary key (only one out of many candidate keys). \n",
    "\n",
    "* **Foreign Key**: A foreign key is a column or group of columns in a relational database table that provides a link between data in two tables. It is a column (or columns) that references a column (most often the primary key) of another table. \n",
    "\n",
    "        Example: STUD_NO in STUDENT_COURSE is a foreign key to STUD_NO in STUDENT relation."
   ]
  },
  {
   "cell_type": "markdown",
   "metadata": {},
   "source": [
    "### Q6. Write a python code to connect MySQL to python. Explain the cursor() and execute() method."
   ]
  },
  {
   "cell_type": "markdown",
   "metadata": {},
   "source": [
    "* **cursor()** : cursor() method creates a cursor/pointer object which is used to interact with a MySQL database.\n",
    "\n",
    "\n",
    "* **execute()** : It is used to execute a SQL query on a MySQL database using a cursor object in Python."
   ]
  },
  {
   "cell_type": "code",
   "execution_count": 68,
   "metadata": {},
   "outputs": [
    {
     "name": "stdout",
     "output_type": "stream",
     "text": [
      "(18, 'Harshit', 19, 345.0, 'Pathak')\n",
      "(18, 'Harshit', 19, 345.0, 'Pathak')\n",
      "(18, 'Harshit', 19, 345.0, 'Pathak')\n",
      "(18, 'Harshit', 19, 345.0, 'Pathak')\n",
      "(18, 'Harshit', 19, 345.0, 'Pathak')\n"
     ]
    }
   ],
   "source": [
    "import mysql.connector as connector\n",
    "\n",
    "mydb=connector.connect(host=\"localhost\",user=\"sqluser\",password=\"password\",auth_plugin='mysql_native_password',database=\"test1\")\n",
    "cursor=mydb.cursor()\n",
    "\n",
    "cursor.execute(\"Select * from test_table\")\n",
    "\n",
    "for i in cursor:\n",
    "    print(i)"
   ]
  },
  {
   "cell_type": "markdown",
   "metadata": {},
   "source": [
    "### Q7. Give the order of execution of SQL clauses in an SQL query."
   ]
  },
  {
   "cell_type": "markdown",
   "metadata": {},
   "source": [
    "* **SQL query will execute SQL clauses in following order**\n",
    "\n",
    "1. **FROM clause**: Specifies the table or tables from which to retrieve data.\n",
    "\n",
    "\n",
    "2. **JOIN clause**: Specifies how to join multiple tables together, if needed.\n",
    "\n",
    "\n",
    "3. **WHERE clause**: Specifies which rows to retrieve based on a set of conditions.\n",
    "\n",
    "\n",
    "4. **GROUP BY clause**: Specifies how to group rows based on one or more columns.\n",
    "\n",
    "\n",
    "5. **HAVING clause**: Specifies which groups to retrieve based on a set of conditions.\n",
    "\n",
    "\n",
    "6. **SELECT clause**: Specifies which columns to retrieve.\n",
    "\n",
    "\n",
    "7. **DISTINCT clause**: Specifies to retrieve only distinct values of the specified columns.\n",
    "\n",
    "\n",
    "8. **ORDER BY clause**: Specifies how to sort the retrieved rows based on one or more columns.\n",
    "\n",
    "\n",
    "9. **LIMIT clause**: Specifies the maximum number of rows to retrieve."
   ]
  },
  {
   "cell_type": "code",
   "execution_count": null,
   "metadata": {},
   "outputs": [],
   "source": []
  }
 ],
 "metadata": {
  "kernelspec": {
   "display_name": "Python 3",
   "language": "python",
   "name": "python3"
  },
  "language_info": {
   "codemirror_mode": {
    "name": "ipython",
    "version": 3
   },
   "file_extension": ".py",
   "mimetype": "text/x-python",
   "name": "python",
   "nbconvert_exporter": "python",
   "pygments_lexer": "ipython3",
   "version": "3.8.5"
  }
 },
 "nbformat": 4,
 "nbformat_minor": 4
}

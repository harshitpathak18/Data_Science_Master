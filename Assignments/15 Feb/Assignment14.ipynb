{
 "cells": [
  {
   "cell_type": "markdown",
   "metadata": {},
   "source": [
    "### Q1. What is multiprocessing in python? Why is it useful?"
   ]
  },
  {
   "cell_type": "markdown",
   "metadata": {},
   "source": [
    "    Multiprocessing - It refers to the ability of a system to support more than one processor at the same time.\n",
    "    Multiple processes are run across multiple CPU cores, which do not share the resources among them. Each process \n",
    "    can have many threads running in its own memory space. In Python, each process has its own instance of Python\n",
    "    interpreter doing the job of executing the instructions.\n",
    "    \n",
    "    \n",
    "    Multiprocessing is useful in various ways :\n",
    "    1. CPU-intensive tasks: Multiprocessing can speed up the execution of tasks that require a lot of CPU time,\n",
    "    such as image processing, machine learning, and scientific computing.\n",
    "\n",
    "    2. Parallel programming: Multiprocessing can be used to implement parallel algorithms, where multiple processes \n",
    "    work together to solve a problem.\n",
    "\n",
    "    3. Scalability: Multiprocessing can help to scale up the performance of a program as the size of the data or \n",
    "    the complexity of the problem increases.\n",
    "\n"
   ]
  },
  {
   "cell_type": "markdown",
   "metadata": {},
   "source": [
    "### Q2. What are the differences between multiprocessing and multithreading?"
   ]
  },
  {
   "cell_type": "markdown",
   "metadata": {},
   "source": [
    "* **Multiprocessing VS Multithreading**\n",
    "\n",
    "        1. A multiprocessing system has more than two processors whereas Multithreading is a program execution technique that allows a single process to have multiple code segments\n",
    "\n",
    "        2. Multiprocessing improves the reliability of the system while in the multithreading process, each thread \n",
    "        runs parallel to each other.\n",
    "\n",
    "        3. Multiprocessing helps you to increase computing power whereas multithreading helps you create computing \n",
    "        threads of a single process\n",
    "\n",
    "        4. In Multiprocessing, the creation of a process, is slow and resource-specific whereas, in\n",
    "        Multiprogramming,the creation of a thread is economical in time and resource.\n",
    "\n",
    "        5. Multithreading avoids pickling, whereas Multiprocessing relies on pickling objects in memory to send \n",
    "        to other processes.\n",
    "\n",
    "        6. Multiprocessing system takes less time whereas for job processing a moderate amount of time is taken."
   ]
  },
  {
   "cell_type": "markdown",
   "metadata": {},
   "source": [
    "### Q3. Write a python code to create a process using the multiprocessing module."
   ]
  },
  {
   "cell_type": "code",
   "execution_count": 1,
   "metadata": {},
   "outputs": [
    {
     "name": "stdout",
     "output_type": "stream",
     "text": [
      "Process 1-\n",
      "Square(1) - 1\n",
      "Square(2) - 4\n",
      "Square(3) - 9\n",
      "Square(4) - 16\n",
      "Square(5) - 25\n",
      "Square(6) - 36\n",
      "Square(7) - 49\n",
      "Square(8) - 64\n",
      "Square(9) - 81\n",
      "\n",
      "\n",
      "Process 2-\n",
      "Cube(1) - 1\n",
      "Cube(2) - 8\n",
      "Cube(3) - 27\n",
      "Cube(4) - 64\n",
      "Cube(5) - 125\n",
      "Cube(6) - 216\n",
      "Cube(7) - 343\n",
      "Cube(8) - 512\n",
      "Cube(9) - 729\n",
      "Process finished\n"
     ]
    }
   ],
   "source": [
    "import multiprocessing\n",
    "  \n",
    "cube=lambda n:print(f\"Cube({n}) - {n**3}\")\n",
    "\n",
    "square=lambda n:print(f\"Square({n}) - {n**2}\")\n",
    "\n",
    "List=[1,2,3,4,5,6,7,8,9]\n",
    "\n",
    "\n",
    "if __name__ == \"__main__\":   \n",
    "    # creating processes\n",
    "    p1 = [multiprocessing.Process(target=square, args=(i, )) for i in List]\n",
    "    p2 = [multiprocessing.Process(target=cube, args=(i, )) for i in List]\n",
    "  \n",
    "    # running processes\n",
    "    print(\"Process 1-\")\n",
    "    for p in p1:\n",
    "        p.run()\n",
    "    \n",
    "    print(\"\\n\\nProcess 2-\")\n",
    "    for p in p2:\n",
    "        p.run()\n",
    "  \n",
    "    print(\"Process finished\")\n",
    "    "
   ]
  },
  {
   "cell_type": "markdown",
   "metadata": {},
   "source": [
    "### Q4. What is a multiprocessing pool in python? Why is it used?"
   ]
  },
  {
   "cell_type": "markdown",
   "metadata": {},
   "source": [
    "Multiprocessing pool is a class in the multiprocessing module that provides a way to distribute tasks across multiple CPU cores. The idea is to create a pool of worker processes that can execute tasks in parallel, thereby reducing the time it takes to complete a large number of tasks.\n",
    "\n",
    "* Here's how it works:\n",
    "    * You create a Pool object with a specified number of worker processes.\n",
    "    * You submit tasks to the pool using the apply(), apply_async(), map(), or map_async() methods.\n",
    "    * The pool distributes the tasks among the worker processes and runs them in parallel.\n",
    "    * The results of each task are collected and returned to the main process.\n",
    "    * The advantage of using a multiprocessing pool is that it allows you to take advantage of multiple CPU cores to perform computations in parallel. This can lead to significant speedups for CPU-bound tasks, such as numerical computations, image processing, or machine learning.\n",
    "\n",
    "The Pool class in Python also provides various methods for controlling the number of worker processes, waiting for tasks to complete, and handling errors. Overall, it's a powerful tool for scaling up your Python programs to take advantage of modern hardware.\n",
    "\n"
   ]
  },
  {
   "cell_type": "markdown",
   "metadata": {},
   "source": [
    "### Q5. How can we create a pool of worker processes in python using multiprocessing module?"
   ]
  },
  {
   "cell_type": "markdown",
   "metadata": {},
   "source": [
    "#### We can create pool with help of multiprocessing.Pool Function\n",
    "\n",
    "* Here's how it works:\n",
    "    * You create a Pool object with a specified number of worker processes.\n",
    "    * You submit tasks to the pool using the apply(), apply_async(), map(), or map_async() methods.\n",
    "    * The pool distributes the tasks among the worker processes and runs them in parallel.\n",
    "    * The results of each task are collected and returned to the main process.\n",
    "    * The advantage of using a multiprocessing pool is that it allows you to take advantage of multiple CPU cores to perform computations in parallel. This can lead to significant speedups for CPU-bound tasks, such as numerical computations, image processing, or machine learning.\n"
   ]
  },
  {
   "cell_type": "code",
   "execution_count": null,
   "metadata": {},
   "outputs": [],
   "source": [
    "# Example\n",
    "import multiprocessing\n",
    "\n",
    "def square(n):    \n",
    "    return n**2\n",
    "\n",
    "if __name__ == '__main__':\n",
    "    with multiprocessing.Pool() as pool :\n",
    "        out =pool.map(square,[1,2,3,4,5,6])\n",
    "        print(out)"
   ]
  },
  {
   "cell_type": "markdown",
   "metadata": {},
   "source": [
    "### Q6. Write a python program to create 4 processes, each process should print a different number using the multiprocessing module in python."
   ]
  },
  {
   "cell_type": "code",
   "execution_count": 47,
   "metadata": {},
   "outputs": [
    {
     "name": "stdout",
     "output_type": "stream",
     "text": [
      "Process 1 generated number is - 48\n",
      "Process 2 generated number is - 33\n",
      "Process 3 generated number is - 40\n",
      "Process 4 generated number is - 21\n"
     ]
    }
   ],
   "source": [
    "import multiprocessing\n",
    "import random\n",
    "\n",
    "random_number=lambda n:print(f\"Process {n+1} generated number is - {random.randint(20, 80)}\")\n",
    "\n",
    "if __name__ == '__main__':\n",
    "    processes = []\n",
    "    for i in range(4):\n",
    "        p = multiprocessing.Process(target=random_number, args=(i,))\n",
    "        processes.append(p)\n",
    "        p.close()\n",
    "    \n",
    "    for p in processes:\n",
    "        p.run()"
   ]
  },
  {
   "cell_type": "code",
   "execution_count": null,
   "metadata": {},
   "outputs": [],
   "source": []
  }
 ],
 "metadata": {
  "kernelspec": {
   "display_name": "Python 3",
   "language": "python",
   "name": "python3"
  },
  "language_info": {
   "codemirror_mode": {
    "name": "ipython",
    "version": 3
   },
   "file_extension": ".py",
   "mimetype": "text/x-python",
   "name": "python",
   "nbconvert_exporter": "python",
   "pygments_lexer": "ipython3",
   "version": "3.8.5"
  }
 },
 "nbformat": 4,
 "nbformat_minor": 4
}

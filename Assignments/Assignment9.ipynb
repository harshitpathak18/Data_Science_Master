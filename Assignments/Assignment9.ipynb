{
 "cells": [
  {
   "cell_type": "markdown",
   "metadata": {},
   "source": [
    "### Q1. Create a vehicle class with an init method having instance variables as name_of_vehicle, max_speed and average_of_vehicle."
   ]
  },
  {
   "cell_type": "code",
   "execution_count": 36,
   "metadata": {},
   "outputs": [],
   "source": [
    "class vehicle:\n",
    "    def __init__(self,name_of_vehicle,max_speed,average_of_vehicle):\n",
    "        self.name_of_vehicle=name_of_vehicle\n",
    "        self.max_speed=max_speed\n",
    "        self.average_of_vehicle=average_of_vehicle"
   ]
  },
  {
   "cell_type": "code",
   "execution_count": 37,
   "metadata": {},
   "outputs": [
    {
     "name": "stdout",
     "output_type": "stream",
     "text": [
      "Name :  Ford Shelby\n",
      "Max Speed :  145 mph\n",
      "Average :  14 kmpl\n"
     ]
    }
   ],
   "source": [
    "# Demo Example\n",
    "car=vehicle(\"Ford Shelby\",145,14)\n",
    "print(\"Name : \",car.name_of_vehicle)\n",
    "print(\"Max Speed : \",car.max_speed,\"mph\")\n",
    "print(\"Average : \",car.average_of_vehicle,\"kmpl\")"
   ]
  },
  {
   "cell_type": "markdown",
   "metadata": {},
   "source": [
    "### Q2. Create a child class car from the vehicle class created in Que 1, which will inherit the vehicle class. Create a method named seating_capacity which takes capacity as an argument and returns the name of the vehicle and its seating capacity."
   ]
  },
  {
   "cell_type": "code",
   "execution_count": 38,
   "metadata": {},
   "outputs": [],
   "source": [
    "class vehicle:\n",
    "    def __init__(self,name_of_vehicle,max_speed,average_of_vehicle):\n",
    "        self.name_of_vehicle=name_of_vehicle\n",
    "        self.max_speed=max_speed\n",
    "        self.average_of_vehicle=average_of_vehicle"
   ]
  },
  {
   "cell_type": "code",
   "execution_count": 41,
   "metadata": {},
   "outputs": [],
   "source": [
    "# Inherited class\n",
    "class car(vehicle):\n",
    "    def seating_capacity(self,capacity):\n",
    "        self.capacity=capacity\n",
    "        return self.name_of_vehicle,self.capacity"
   ]
  },
  {
   "cell_type": "code",
   "execution_count": 40,
   "metadata": {},
   "outputs": [
    {
     "data": {
      "text/plain": [
       "('Ford Mustang GT', 4)"
      ]
     },
     "execution_count": 40,
     "metadata": {},
     "output_type": "execute_result"
    }
   ],
   "source": [
    "# Demo Example\n",
    "c=car(\"Ford Mustang GT\",155,13)\n",
    "c.seating_capacity(4)"
   ]
  },
  {
   "cell_type": "markdown",
   "metadata": {},
   "source": [
    "### Q3. What is multiple inheritance? Write a python code to demonstrate multiple inheritance."
   ]
  },
  {
   "cell_type": "markdown",
   "metadata": {},
   "source": [
    "* When a class is derived from more than one base class then it is called multiple inheritance.\n",
    "* Derived class inherits all the features of the base classes."
   ]
  },
  {
   "cell_type": "code",
   "execution_count": 43,
   "metadata": {},
   "outputs": [
    {
     "name": "stdout",
     "output_type": "stream",
     "text": [
      "Father - Sasuke Uchiha\n",
      "Mother - Sakura Haruno\n",
      "Child - Sharda Uchiha\n"
     ]
    }
   ],
   "source": [
    "# Example\n",
    "\n",
    "# 1 Base class\n",
    "class Father:        \n",
    "    def __init__(self,father_name):\n",
    "        self.father_name=father_name\n",
    "\n",
    "# 2 Base class\n",
    "class Mother:        \n",
    "    def __init__(self,mother_name):\n",
    "        self.mother_name=mother_name\n",
    "        \n",
    "# Inherited class\n",
    "class Child(Father,Mother):    \n",
    "    def __init__(self,child_name,father_name,mother_name):\n",
    "        Father.father_name=father_name\n",
    "        Mother.mother_name=mother_name\n",
    "        self.child_name=child_name\n",
    "    \n",
    "    def show_details(self):\n",
    "        print(\"Father -\",Father.father_name)\n",
    "        print(\"Mother -\",Mother.mother_name)\n",
    "        print(\"Child -\",self.child_name)\n",
    "\n",
    "\n",
    "child=Child(\"Sharda Uchiha\",\"Sasuke Uchiha\",\"Sakura Haruno\")\n",
    "child.show_details()"
   ]
  },
  {
   "cell_type": "markdown",
   "metadata": {},
   "source": [
    "### Q4. What are getter and setter in python? Create a class and create a getter and a setter method in this class."
   ]
  },
  {
   "cell_type": "markdown",
   "metadata": {},
   "source": [
    "* getters are the methods which helps to access the private attributes from a class\n",
    "* setters are the methods which helps to change or set the value of private attributes."
   ]
  },
  {
   "cell_type": "code",
   "execution_count": 84,
   "metadata": {},
   "outputs": [],
   "source": [
    "class Person:\n",
    "    def __init__(self,name):\n",
    "        self.name=name\n",
    "        self.__fav_sport=None\n",
    "        \n",
    "    # getter for fav_sport\n",
    "    def get_sport(self):\n",
    "        return self.__fav_sport\n",
    "        \n",
    "    # setter for fav_sport\n",
    "    def set_sport(self,fav_sport):\n",
    "        self.__fav_sport=fav_sport\n"
   ]
  },
  {
   "cell_type": "code",
   "execution_count": 87,
   "metadata": {},
   "outputs": [
    {
     "name": "stdout",
     "output_type": "stream",
     "text": [
      "Name : Harshit\n",
      "Favourite Sport : Cricket\n"
     ]
    }
   ],
   "source": [
    "p=Person(\"Harshit\")\n",
    "p.set_sport(\"Cricket\")\n",
    "\n",
    "print(\"Name :\",p.name)\n",
    "print(\"Favourite Sport :\",p.get_sport())"
   ]
  },
  {
   "cell_type": "markdown",
   "metadata": {},
   "source": [
    "### Q5.What is method overriding in python? Write a python code to demonstrate method overriding."
   ]
  },
  {
   "cell_type": "markdown",
   "metadata": {},
   "source": [
    "* Method overriding is an ability of any object-oriented programming language that allows a subclass or child class to provide a specific implementation of a method that is already provided by one of its super-classes or parent classes"
   ]
  },
  {
   "cell_type": "code",
   "execution_count": 89,
   "metadata": {},
   "outputs": [
    {
     "name": "stdout",
     "output_type": "stream",
     "text": [
      "This is function of Parent class\n",
      "This is function of Child class\n"
     ]
    }
   ],
   "source": [
    "class Parent():      \n",
    "    def show(self):\n",
    "        print(\"This is function of Parent class\")\n",
    "          \n",
    "class Child(Parent):\n",
    "    def show(self):\n",
    "        print(\"This is function of Child class\")\n",
    "              \n",
    "parent = Parent()\n",
    "child = Child()\n",
    "  \n",
    "parent.show()\n",
    "child.show()"
   ]
  },
  {
   "cell_type": "code",
   "execution_count": null,
   "metadata": {},
   "outputs": [],
   "source": []
  }
 ],
 "metadata": {
  "kernelspec": {
   "display_name": "Python 3",
   "language": "python",
   "name": "python3"
  },
  "language_info": {
   "codemirror_mode": {
    "name": "ipython",
    "version": 3
   },
   "file_extension": ".py",
   "mimetype": "text/x-python",
   "name": "python",
   "nbconvert_exporter": "python",
   "pygments_lexer": "ipython3",
   "version": "3.8.5"
  }
 },
 "nbformat": 4,
 "nbformat_minor": 4
}

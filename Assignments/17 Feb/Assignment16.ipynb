{
 "cells": [
  {
   "cell_type": "markdown",
   "metadata": {},
   "source": [
    "### Q1. What is MongoDB? Explain non-relational databases in short. In which scenarios it is preferred to use MongoDB over SQL databases?"
   ]
  },
  {
   "cell_type": "markdown",
   "metadata": {},
   "source": [
    "* **MongoDB** is a document-oriented NoSQL database used for high volume data storage. Instead of using tables and rows as in the traditional relational databases, MongoDB makes use of collections and documents. Documents consist of key-value pairs which are the basic unit of data in MongoDB. Collections contain sets of documents and function which is the equivalent of relational database tables.\n",
    "\n",
    "\n",
    "* **Non-Relational databases** also known as NoSQL databases, are databases that do not use the traditional table-based relational database model. Instead, they use different data models, such as key-value, document-oriented, or graph-based, to store and organize data. Non-relational databases are often used for handling large amounts of unstructured or semi-structured data, and they can be more flexible and scalable than traditional SQL databases.\n",
    "\n",
    "\n",
    "* **Scenarios When MongoDB preferred over SQL databases** MongoDB is preferred over SQL databases in scenarios where the data is unstructured, has varying or unknown schema, and where performance is a critical requirement. For example, MongoDB is commonly used in industries such as e-commerce, social media, and healthcare, where the data is constantly changing and requires fast access to large amounts of data."
   ]
  },
  {
   "cell_type": "markdown",
   "metadata": {},
   "source": [
    "### Q2. State and Explain the features of MongoDB."
   ]
  },
  {
   "cell_type": "markdown",
   "metadata": {},
   "source": [
    "### Features of MongoDB - \n",
    "\n",
    "* **Document-oriented storage**: MongoDB stores data in flexible and dynamic JSON-like documents, which allows developers to store data in a way that best suits their application's needs.\n",
    "\n",
    "\n",
    "* **Flexible schema**: MongoDB does not enforce a fixed schema like traditional SQL databases, which makes it easier to work with unstructured data.\n",
    "\n",
    "\n",
    "* **High availability**: MongoDB provides automatic replication and failover, which ensures that the data is alwaysavailable and that there is no single point of failure.\n",
    "\n",
    "\n",
    "* **Scalability**: MongoDB can easily scale horizontally by adding more nodes to a cluster, which makes it ideal for handling large volumes of data.\n",
    "\n",
    "\n",
    "* **Indexing**: MongoDB supports indexing on any field, which makes querying the database faster and more efficient.\n"
   ]
  },
  {
   "cell_type": "markdown",
   "metadata": {},
   "source": [
    "### Q3. Write a code to connect MongoDB to Python. Also, create a database and a collection in MongoDB."
   ]
  },
  {
   "cell_type": "code",
   "execution_count": 187,
   "metadata": {},
   "outputs": [],
   "source": [
    "# Import library\n",
    "import pymongo\n",
    "\n",
    "# Connect MongoDB with Python\n",
    "client = pymongo.MongoClient(\"mongodb+srv://<username>:<password>@cluster0.cmcikf4.mongodb.net/?retryWrites=true&w=majority\")\n",
    "\n",
    "# Creating a database\n",
    "db = client['MyDatabase']\n",
    "\n",
    "# Creating a collection\n",
    "collection = db[\"MyCollection\"]"
   ]
  },
  {
   "cell_type": "markdown",
   "metadata": {},
   "source": [
    "### Q4. Using the database and the collection created in question number 3, write a code to insert one record, and insert many records. Use the find() and find_one() methods to print the inserted record."
   ]
  },
  {
   "cell_type": "markdown",
   "metadata": {},
   "source": [
    "### Inserting single record using insert_one() -"
   ]
  },
  {
   "cell_type": "code",
   "execution_count": 188,
   "metadata": {},
   "outputs": [
    {
     "data": {
      "text/plain": [
       "<pymongo.results.InsertOneResult at 0x1482fcd2140>"
      ]
     },
     "execution_count": 188,
     "metadata": {},
     "output_type": "execute_result"
    }
   ],
   "source": [
    "# insert one record\n",
    "single_record={\"_id\":1,\"name\":\"Harshit\",\"age\":21}\n",
    "collection.insert_one(single_record)"
   ]
  },
  {
   "cell_type": "markdown",
   "metadata": {},
   "source": [
    "### Inserting multiple records using insert_many() -"
   ]
  },
  {
   "cell_type": "code",
   "execution_count": 189,
   "metadata": {},
   "outputs": [
    {
     "data": {
      "text/plain": [
       "<pymongo.results.InsertManyResult at 0x1482fead480>"
      ]
     },
     "execution_count": 189,
     "metadata": {},
     "output_type": "execute_result"
    }
   ],
   "source": [
    "# insert many reocrds\n",
    "multiple_records=[\n",
    "    {\"_id\":2,\"name\":\"Tushar\",\"age\":23},\n",
    "    {\"_id\":4,\"name\":\"Vradhi\",\"age\":19},\n",
    "    {\"_id\":5,\"name\":\"Chandan\",\"age\":22},\n",
    "    {\"_id\":6,\"name\":\"Ishant\",\"age\":22},\n",
    "    {\"_id\":7,\"name\":\"Harinandan\",\"age\":20},\n",
    "    {\"_id\":8,\"name\":\"Enkalvya\",\"age\":21},\n",
    "    {\"_id\":9,\"name\":\"Abhishek\",\"age\":20},\n",
    "    {\"_id\":10,\"name\":\"Dhananjay\",\"age\":23},    \n",
    "]\n",
    "collection.insert_many(multiple_records)"
   ]
  },
  {
   "cell_type": "markdown",
   "metadata": {},
   "source": [
    "### Printing first record using find_one() -"
   ]
  },
  {
   "cell_type": "code",
   "execution_count": 190,
   "metadata": {},
   "outputs": [
    {
     "name": "stdout",
     "output_type": "stream",
     "text": [
      "Id : 1\n",
      "Name : Harshit\n",
      "Age : 21\n"
     ]
    }
   ],
   "source": [
    "# find_one()\n",
    "record=collection.find_one()\n",
    "\n",
    "print(\"Id :\",record['_id'])\n",
    "print(\"Name :\",record['name'])\n",
    "print(\"Age :\",record['age'])"
   ]
  },
  {
   "cell_type": "markdown",
   "metadata": {},
   "source": [
    "### Printing all records using find()-"
   ]
  },
  {
   "cell_type": "code",
   "execution_count": 195,
   "metadata": {},
   "outputs": [
    {
     "name": "stdout",
     "output_type": "stream",
     "text": [
      "All records of database-\n",
      "Id\tAge\tName\n",
      "1\t21\tHarshit\n",
      "2\t23\tTushar\n",
      "4\t19\tVradhi\n",
      "5\t22\tChandan\n",
      "6\t22\tIshant\n",
      "7\t20\tHarinandan\n",
      "8\t21\tEnkalvya\n",
      "9\t20\tAbhishek\n",
      "10\t23\tDhananjay\n"
     ]
    }
   ],
   "source": [
    "# find()\n",
    "records=collection.find()\n",
    "\n",
    "print(\"Id\\tAge\\tName\")\n",
    "for i in records:\n",
    "    print(f\"{i['_id']}\\t{i['age']}\\t{i['name']}\")"
   ]
  },
  {
   "cell_type": "markdown",
   "metadata": {},
   "source": [
    "### Q5. Explain how you can use the find() method to query the MongoDB database. Write a simple code to demonstrate this."
   ]
  },
  {
   "cell_type": "markdown",
   "metadata": {},
   "source": [
    "* The find() method takes an optional query object as its argument, which defines the criteria for the search. This query object is typically constructed using a set of key-value pairs, where each key represents a field in the document and each value represents the value to search for in that field. The find() method returns a cursor to the resulting documents, which can be iterated over to access the data.\n",
    "\n",
    "* The find() method with no parameters returns all documents from a collection and returns all fields for the documents."
   ]
  },
  {
   "cell_type": "code",
   "execution_count": 199,
   "metadata": {},
   "outputs": [
    {
     "name": "stdout",
     "output_type": "stream",
     "text": [
      "Id\tAge\tName\n",
      "1\t21\tHarshit\n",
      "2\t23\tTushar\n",
      "5\t22\tChandan\n",
      "6\t22\tIshant\n",
      "8\t21\tEnkalvya\n",
      "10\t23\tDhananjay\n"
     ]
    }
   ],
   "source": [
    "# Example-\n",
    "records=collection.find({'age':{'$gte':21}})\n",
    "\n",
    "print(\"Id\\tAge\\tName\")\n",
    "for i in records:\n",
    "    print(f\"{i['_id']}\\t{i['age']}\\t{i['name']}\")"
   ]
  },
  {
   "cell_type": "markdown",
   "metadata": {},
   "source": [
    "### Q6. Explain the sort() method. Give an example to demonstrate sorting in MongoDB."
   ]
  },
  {
   "cell_type": "markdown",
   "metadata": {},
   "source": [
    "* **sort()** method  is used to sort the result in ascending or descending order. sort() method takes one parameter for \"fieldname\" and one parameter for \"direction\" (ascending is the default direction)."
   ]
  },
  {
   "cell_type": "code",
   "execution_count": 223,
   "metadata": {},
   "outputs": [
    {
     "name": "stdout",
     "output_type": "stream",
     "text": [
      "Age\tName\n",
      "19\tVradhi\n",
      "20\tHarinandan\n",
      "20\tAbhishek\n",
      "21\tHarshit\n",
      "21\tEnkalvya\n",
      "22\tChandan\n",
      "22\tIshant\n",
      "23\tTushar\n",
      "23\tDhananjay\n"
     ]
    }
   ],
   "source": [
    "# Sort Data Based on Name\n",
    "sorted_data=collection.find().sort(\"age\")\n",
    "\n",
    "print(\"Age\\tName\")\n",
    "for i in sorted_data:\n",
    "    print(f\"{i['age']}\\t{i['name']}\")"
   ]
  },
  {
   "cell_type": "markdown",
   "metadata": {},
   "source": [
    "### Q7. Explain why delete_one(), delete_many(), and drop() is used."
   ]
  },
  {
   "cell_type": "markdown",
   "metadata": {},
   "source": [
    "**delete_one()**, **delete_many()**, and **drop()** methods are used in MongoDB to remove documents or collections from a database.\n",
    "    \n",
    "\n",
    "1. delete_one(filter, collation=None) deletes a single document from the specified collection that matches the given filter criteria.\n",
    "\n",
    "2. delete_many(filter, collation=None) deletes all documents from the specified collection that match the given filter criteria.\n",
    "\n",
    "3. drop() removes an entire collection from the database."
   ]
  },
  {
   "cell_type": "code",
   "execution_count": 224,
   "metadata": {},
   "outputs": [
    {
     "data": {
      "text/plain": [
       "<pymongo.results.DeleteResult at 0x14830ffe580>"
      ]
     },
     "execution_count": 224,
     "metadata": {},
     "output_type": "execute_result"
    }
   ],
   "source": [
    "# Deleting single document\n",
    "query={\"name\":\"Dhananjay\"}\n",
    "\n",
    "collection.delete_one(query)"
   ]
  },
  {
   "cell_type": "code",
   "execution_count": 227,
   "metadata": {},
   "outputs": [
    {
     "data": {
      "text/plain": [
       "<pymongo.results.DeleteResult at 0x1482fee9ac0>"
      ]
     },
     "execution_count": 227,
     "metadata": {},
     "output_type": "execute_result"
    }
   ],
   "source": [
    "# Deleting multiple documents\n",
    "query={\"age\":22}\n",
    "\n",
    "collection.delete_many(query)"
   ]
  },
  {
   "cell_type": "code",
   "execution_count": 229,
   "metadata": {},
   "outputs": [],
   "source": [
    "# Droping all documents\n",
    "collection.drop()"
   ]
  },
  {
   "cell_type": "code",
   "execution_count": null,
   "metadata": {},
   "outputs": [],
   "source": []
  }
 ],
 "metadata": {
  "kernelspec": {
   "display_name": "Python 3",
   "language": "python",
   "name": "python3"
  },
  "language_info": {
   "codemirror_mode": {
    "name": "ipython",
    "version": 3
   },
   "file_extension": ".py",
   "mimetype": "text/x-python",
   "name": "python",
   "nbconvert_exporter": "python",
   "pygments_lexer": "ipython3",
   "version": "3.8.5"
  }
 },
 "nbformat": 4,
 "nbformat_minor": 4
}

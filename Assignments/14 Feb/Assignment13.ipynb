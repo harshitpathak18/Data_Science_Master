{
 "cells": [
  {
   "cell_type": "markdown",
   "metadata": {},
   "source": [
    "### Q1. What is MultiThreading in Python? Why it is used? Name the module used to handle threads in python."
   ]
  },
  {
   "cell_type": "markdown",
   "metadata": {},
   "source": [
    "* A thread is a unit of execution within a process. Multithreading refers to concurrently executing multiple threads by rapidly switching the control of the CPU between threads.\n",
    "\n",
    "\n",
    "\n",
    "* Main reasons for using threads are:\n",
    "    1. Parallel Computation: If any user has a multiprocessor machine, then the thread can allow doing parallel processing with the goal of an increase in processing speed.\n",
    "    2. Standardization: It became a standard approach for all programming languages as it increases programming speed.\n",
    "    3. Parallel I/O (Input/Output): When we talk about the speed of input & output, it is comparatively slow in CPU. By placing each i/o operations in multiple individual threads, programmers can make use of operations done in parallel with each other & with the computation speed.\n",
    "    4. Asynchronous Events: Multiple threaded applications can deal with asynchronous actions.\n",
    "\n",
    "\n",
    "\n",
    "* \"threading\" module is used to handle threads in python."
   ]
  },
  {
   "cell_type": "code",
   "execution_count": 42,
   "metadata": {},
   "outputs": [
    {
     "name": "stdout",
     "output_type": "stream",
     "text": [
      "Data from first url -\n",
      "Line 1\n",
      "Line 2\n",
      "Line 3\n",
      "Line 4\n",
      "\n",
      "Data from second url -\n",
      "The writelines() method writes the items of a list to the file\n"
     ]
    }
   ],
   "source": [
    "# Example\n",
    "import threading\n",
    "from urllib import request\n",
    "\n",
    "def download_file(url,file_name):\n",
    "    request.urlretrieve(url,file_name)\n",
    "    \n",
    "urllist=['https://raw.githubusercontent.com/harshitpathak18/Data_Science_Master/main/Assignments/file.txt','https://raw.githubusercontent.com/harshitpathak18/Data_Science_Master/main/Assignments/file1.txt']\n",
    "file_names=['URL1.txt','URL2.txt']\n",
    "\n",
    "Threads=[threading.Thread(target=download_file,args=(urllist[i],file_names[i])) for i in range(len(urllist))]\n",
    "\n",
    "for thread in Threads:\n",
    "    thread.start()\n",
    "\n",
    "with open('URL1.txt','r') as f1:\n",
    "    print(f\"Data from first url -\\n{f1.read()}\")\n",
    "\n",
    "with open('URL2.txt','r') as f2:\n",
    "    print(f\"\\nData from second url -\\n{f2.read()}\")\n"
   ]
  },
  {
   "cell_type": "markdown",
   "metadata": {},
   "source": [
    "### Q2. Why Threading Module is used ? Write the use of following functions\n",
    "    1. activeCount()\n",
    "    2. currentThread()\n",
    "    3. enumerate()"
   ]
  },
  {
   "cell_type": "markdown",
   "metadata": {},
   "source": [
    "    Threading module is used to handle the threads in python. Main reasons for using threads is to achieve:\n",
    "        Parallel Computation\n",
    "        Standardization\n",
    "        Parallel I/O (Input/Output)\n",
    "        Asynchronous Events\n",
    "        \n",
    "    1. active_count() - Returns the number of thread objects that are active.\n",
    "    2. current_thread() : Returns the current Thread object\n",
    "    3. enumerate() : Return list of all running threads3. "
   ]
  },
  {
   "cell_type": "code",
   "execution_count": 52,
   "metadata": {},
   "outputs": [
    {
     "name": "stdout",
     "output_type": "stream",
     "text": [
      "Number of active threads are - 6\n",
      "\n",
      "\n",
      "Current thread is - <_MainThread(MainThread, started 18260)>\n",
      "\n",
      "\n",
      "List of all active threads -\n",
      "\t <_MainThread(MainThread, started 18260)>\n",
      "\t <Thread(IOPub, started daemon 17764)>\n",
      "\t <Heartbeat(Heartbeat, started daemon 17756)>\n",
      "\t <ControlThread(Control, started daemon 17032)>\n",
      "\t <HistorySavingThread(IPythonHistorySavingThread, started 10420)>\n",
      "\t <ParentPollerWindows(Thread-4, started daemon 9028)>\n"
     ]
    }
   ],
   "source": [
    "# Example-active_count()\n",
    "print(\"Number of active threads are -\",threading.active_count())\n",
    "\n",
    "# Example-current_thread()\n",
    "print(\"\\n\\nCurrent thread is -\",threading.current_thread())\n",
    "\n",
    "# Example-enumerate()\n",
    "print(\"\\n\\nList of all active threads -\")\n",
    "for i  in threading.enumerate():\n",
    "    print(\"\\t\",i)"
   ]
  },
  {
   "cell_type": "markdown",
   "metadata": {},
   "source": [
    "### Q3. Explain the following functions - run(),  start(),  join() & isAlive()"
   ]
  },
  {
   "cell_type": "markdown",
   "metadata": {},
   "source": [
    "     1. run() - Every thread will run this method when thread is started. We can override this method and write our own code as body of the method. A thread will terminate automatically when it comes out of the run() Method.\n",
    "     \n",
    "     2. start() - This function used to start a thread when thread is created.\n",
    "     \n",
    "     3. join() - This function used to hold next thread untill complete current theread execution.\n",
    "     \n",
    "     4. isAlive() - This function replace with is_alive() function, It is used to check whether a thread is currently running or not.\n"
   ]
  },
  {
   "cell_type": "markdown",
   "metadata": {},
   "source": [
    "### Q4. Write a python program to create two threads. Thread one must print the list of squares and thread two must print the list of cubes.\n"
   ]
  },
  {
   "cell_type": "code",
   "execution_count": 135,
   "metadata": {},
   "outputs": [],
   "source": [
    "List=[1,2,3,4,5,6]\n",
    "\n",
    "thread1=[threading.Thread(target=lambda x:print(x**2),args=(List[i],)) for i in range(len(List))]\n",
    "thread2=[threading.Thread(target=lambda x:print(x**3),args=(List[i],)) for i in range(len(List))]"
   ]
  },
  {
   "cell_type": "code",
   "execution_count": 136,
   "metadata": {},
   "outputs": [
    {
     "name": "stdout",
     "output_type": "stream",
     "text": [
      "Thread 1 Output :\n",
      "1\n",
      "4\n",
      "9\n",
      "16\n",
      "25\n",
      "36\n",
      "\n",
      "\n",
      "Thread 2 Output :\n",
      "1\n",
      "8\n",
      "27\n",
      "64\n",
      "125\n",
      "216\n"
     ]
    }
   ],
   "source": [
    "print(\"Thread 1 Output :\")\n",
    "for thread in thread1:\n",
    "    thread.start()\n",
    "\n",
    "print(\"\\n\\nThread 2 Output :\")\n",
    "for thread in thread2:\n",
    "    thread.start()"
   ]
  },
  {
   "cell_type": "markdown",
   "metadata": {},
   "source": [
    "### Q5. State advantages and disadvantages of multithreading."
   ]
  },
  {
   "cell_type": "markdown",
   "metadata": {},
   "source": [
    "* Advantages:\n",
    "        1. It doesn’t block the user. This is because threads are independent of each other.\n",
    "        2. Better use of system resources is possible since threads execute tasks parallely.\n",
    "        3. Enhanced performance on multi-processor machines.\n",
    "        4. Multi-threaded servers and interactive GUIs use multithreading exclusively.\n",
    "\n",
    "        \n",
    "* Disadvantages:\n",
    "        1. As number of threads increase, complexity increases.\n",
    "        2. Synchronization of shared resources (objects, data) is necessary.\n",
    "        3. It is difficult to debug, result is sometimes unpredictable.\n",
    "        4. Potential deadlocks which leads to starvation, i.e. some threads may not be served with a bad design\n",
    "        5. Constructing and synchronizing threads is CPU/memory intensive."
   ]
  },
  {
   "cell_type": "markdown",
   "metadata": {},
   "source": [
    "### Q6. Explain deadlocks and race conditions."
   ]
  },
  {
   "cell_type": "markdown",
   "metadata": {},
   "source": [
    "    Deadlock - It is a situation where a process or a set of processes is blocked, waiting for some other resource \n",
    "    that is held by some other waiting process. A deadlock is a concurrency failure mode where a thread or threads\n",
    "    wait for a condition that never occurs\n",
    "\n",
    "    Race condition - It occurs when multiple threads read and write the same variable i.e. they have access to \n",
    "    some shared data and they try to change it at the same time. In such a scenario threads are “racing” each \n",
    "    other to access/change the data.\n"
   ]
  },
  {
   "cell_type": "code",
   "execution_count": null,
   "metadata": {},
   "outputs": [],
   "source": []
  }
 ],
 "metadata": {
  "kernelspec": {
   "display_name": "Python 3",
   "language": "python",
   "name": "python3"
  },
  "language_info": {
   "codemirror_mode": {
    "name": "ipython",
    "version": 3
   },
   "file_extension": ".py",
   "mimetype": "text/x-python",
   "name": "python",
   "nbconvert_exporter": "python",
   "pygments_lexer": "ipython3",
   "version": "3.8.5"
  }
 },
 "nbformat": 4,
 "nbformat_minor": 4
}

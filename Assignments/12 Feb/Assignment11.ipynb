{
 "cells": [
  {
   "cell_type": "markdown",
   "metadata": {},
   "source": [
    "### Q1. What is an exception in python? Write the difference between Exceptions and syntax errors."
   ]
  },
  {
   "cell_type": "markdown",
   "metadata": {},
   "source": [
    "* **Exceptions are events which are raised when some internal events occur which changes the normal flow of the program.**\n",
    "\n",
    "* **Difference between Exceptions and syntax errors-**\n",
    "  * Syntax Error: As the name suggests this error is caused by the wrong syntax in the code. It leads to the termination of the program.\n",
    "  \n",
    "  * Exceptions: Exceptions are raised when the program is syntactically correct, but the code resulted in an error. This error does not stop the execution of the program, however, it changes the normal flow of the program."
   ]
  },
  {
   "cell_type": "code",
   "execution_count": 11,
   "metadata": {},
   "outputs": [
    {
     "ename": "SyntaxError",
     "evalue": "unexpected EOF while parsing (4160263377.py, line 4)",
     "output_type": "error",
     "traceback": [
      "\u001b[1;36m  Cell \u001b[1;32mIn[11], line 4\u001b[1;36m\u001b[0m\n\u001b[1;33m    print(string1,string2\u001b[0m\n\u001b[1;37m                         ^\u001b[0m\n\u001b[1;31mSyntaxError\u001b[0m\u001b[1;31m:\u001b[0m unexpected EOF while parsing\n"
     ]
    }
   ],
   "source": [
    "# Example Syntax Error\n",
    "string1=\"Synatx\"\n",
    "string2=\"error\"\n",
    "print(string1,string2"
   ]
  },
  {
   "cell_type": "code",
   "execution_count": 12,
   "metadata": {},
   "outputs": [
    {
     "name": "stdout",
     "output_type": "stream",
     "text": [
      "Divided by Zero Error - division by zero\n"
     ]
    }
   ],
   "source": [
    "# Example Exception\n",
    "try:\n",
    "    print(10/0)\n",
    "except ZeroDivisionError as e:\n",
    "    print(\"Divided by Zero Error -\",e)"
   ]
  },
  {
   "cell_type": "markdown",
   "metadata": {},
   "source": [
    "### Q2. What happens if exception is not handled? Explain with an example."
   ]
  },
  {
   "cell_type": "markdown",
   "metadata": {},
   "source": [
    "* When an exception occurred and if it is not handled then the program terminates abruptly and the code below the line that caused the exception will not get executed."
   ]
  },
  {
   "cell_type": "code",
   "execution_count": 16,
   "metadata": {},
   "outputs": [
    {
     "ename": "ZeroDivisionError",
     "evalue": "division by zero",
     "output_type": "error",
     "traceback": [
      "\u001b[1;31m---------------------------------------------------------------------------\u001b[0m",
      "\u001b[1;31mZeroDivisionError\u001b[0m                         Traceback (most recent call last)",
      "Cell \u001b[1;32mIn[16], line 4\u001b[0m\n\u001b[0;32m      2\u001b[0m a\u001b[38;5;241m=\u001b[39m\u001b[38;5;241m10\u001b[39m\n\u001b[0;32m      3\u001b[0m b\u001b[38;5;241m=\u001b[39m\u001b[38;5;241m0\u001b[39m\n\u001b[1;32m----> 4\u001b[0m \u001b[38;5;28mprint\u001b[39m(\u001b[43ma\u001b[49m\u001b[38;5;241;43m/\u001b[39;49m\u001b[43mb\u001b[49m)\n\u001b[0;32m      5\u001b[0m \u001b[38;5;28mprint\u001b[39m(\u001b[38;5;124m\"\u001b[39m\u001b[38;5;124mNow this line will not get exceuted because above exception is not handled\u001b[39m\u001b[38;5;124m\"\u001b[39m)\n",
      "\u001b[1;31mZeroDivisionError\u001b[0m: division by zero"
     ]
    }
   ],
   "source": [
    "# Example\n",
    "a=10\n",
    "b=0\n",
    "print(a/b)\n",
    "print(\"Now this line will not get exceuted because above exception is not handled\")"
   ]
  },
  {
   "cell_type": "markdown",
   "metadata": {},
   "source": [
    "### Question 3: Which Python Statements are used to catch and handle exceptions? Explain with an example."
   ]
  },
  {
   "cell_type": "markdown",
   "metadata": {},
   "source": [
    "* The try and except block in Python is used to catch and handle exceptions."
   ]
  },
  {
   "cell_type": "code",
   "execution_count": 27,
   "metadata": {},
   "outputs": [
    {
     "name": "stdout",
     "output_type": "stream",
     "text": [
      "Error is File Not Found -  [Errno 2] No such file or directory: 'Filee.txt'\n",
      "This is how exceptions are catched and handled\n"
     ]
    }
   ],
   "source": [
    "try:\n",
    "    with open(\"Filee.txt\",'r') as f:\n",
    "        print(f.read())\n",
    "        \n",
    "except FileNotFoundError as e:\n",
    "    print(\"Error is File Not Found - \",e)\n",
    "\n",
    "finally:\n",
    "    print(\"This is how exceptions are catched and handled\")"
   ]
  },
  {
   "cell_type": "markdown",
   "metadata": {},
   "source": [
    "### Question 4 : Explain with an example:\n",
    "* **Try and else**\n",
    "* **finally**\n",
    "* **raise**"
   ]
  },
  {
   "cell_type": "markdown",
   "metadata": {},
   "source": [
    "* Try: This block will test the excepted error to occur\n",
    "* Else: If there is no exception then this block will be executed"
   ]
  },
  {
   "cell_type": "code",
   "execution_count": 32,
   "metadata": {},
   "outputs": [
    {
     "name": "stdout",
     "output_type": "stream",
     "text": [
      "Line 1\n",
      "Line 2\n",
      "Line 3\n",
      "Line 4\n",
      "else block will get exceuted if and only if try block execute without exception\n"
     ]
    }
   ],
   "source": [
    "# Example try and else\n",
    "try:\n",
    "    with open(\"file.txt\",'r') as f:\n",
    "        print(f.read())\n",
    "except FileNotFoundError as e:\n",
    "    print(\"File not found error-\",e)\n",
    "else:\n",
    "    print(\"else block will get exceuted if and only if try block execute without exception\")"
   ]
  },
  {
   "cell_type": "markdown",
   "metadata": {},
   "source": [
    "* Finally: Finally block always gets executed either exception is generated or not"
   ]
  },
  {
   "cell_type": "code",
   "execution_count": 33,
   "metadata": {},
   "outputs": [
    {
     "name": "stdout",
     "output_type": "stream",
     "text": [
      "File not found error- [Errno 2] No such file or directory: 'fileee.txt'\n",
      "Finally block always gets executed either exception is generated or not\n"
     ]
    }
   ],
   "source": [
    "# Example finally\n",
    "try:\n",
    "    with open(\"fileee.txt\",'r') as f:\n",
    "        print(f.read())\n",
    "except FileNotFoundError as e:\n",
    "    print(\"File not found error-\",e)\n",
    "finally:\n",
    "    print(\"Finally block always gets executed either exception is generated or not\")"
   ]
  },
  {
   "cell_type": "markdown",
   "metadata": {},
   "source": [
    "* Raise keyword raises an error and stops the control flow of the program. It is used to bring up the current exception in an exception handler so that it can be handled further up the call stack."
   ]
  },
  {
   "cell_type": "code",
   "execution_count": 78,
   "metadata": {},
   "outputs": [
    {
     "ename": "ValueError",
     "evalue": "Can't typecast",
     "output_type": "error",
     "traceback": [
      "\u001b[1;31m---------------------------------------------------------------------------\u001b[0m",
      "\u001b[1;31mValueError\u001b[0m                                Traceback (most recent call last)",
      "Cell \u001b[1;32mIn[78], line 4\u001b[0m\n\u001b[0;32m      3\u001b[0m \u001b[38;5;28;01mtry\u001b[39;00m:\n\u001b[1;32m----> 4\u001b[0m     n \u001b[38;5;241m=\u001b[39m \u001b[38;5;28;43mint\u001b[39;49m\u001b[43m(\u001b[49m\u001b[43mstring\u001b[49m\u001b[43m)\u001b[49m\n\u001b[0;32m      5\u001b[0m \u001b[38;5;28;01mexcept\u001b[39;00m \u001b[38;5;167;01mValueError\u001b[39;00m \u001b[38;5;28;01mas\u001b[39;00m e:\n",
      "\u001b[1;31mValueError\u001b[0m: invalid literal for int() with base 10: 'harshit'",
      "\nDuring handling of the above exception, another exception occurred:\n",
      "\u001b[1;31mValueError\u001b[0m                                Traceback (most recent call last)",
      "Cell \u001b[1;32mIn[78], line 6\u001b[0m\n\u001b[0;32m      4\u001b[0m     n \u001b[38;5;241m=\u001b[39m \u001b[38;5;28mint\u001b[39m(string)\n\u001b[0;32m      5\u001b[0m \u001b[38;5;28;01mexcept\u001b[39;00m \u001b[38;5;167;01mValueError\u001b[39;00m \u001b[38;5;28;01mas\u001b[39;00m e:\n\u001b[1;32m----> 6\u001b[0m     \u001b[38;5;28;01mraise\u001b[39;00m \u001b[38;5;167;01mValueError\u001b[39;00m(\u001b[38;5;124m\"\u001b[39m\u001b[38;5;124mCan\u001b[39m\u001b[38;5;124m'\u001b[39m\u001b[38;5;124mt typecast\u001b[39m\u001b[38;5;124m\"\u001b[39m)\n",
      "\u001b[1;31mValueError\u001b[0m: Can't typecast"
     ]
    }
   ],
   "source": [
    "# Example raise\n",
    "string = 'harshit'\n",
    "try:\n",
    "    n = int(string)\n",
    "except ValueError as e:\n",
    "    raise ValueError(\"Can't typecast\")"
   ]
  },
  {
   "cell_type": "markdown",
   "metadata": {},
   "source": [
    "### Q5. What are custom Exceptions in python ? Why do we need Custom Exceptions? Explain with an Example."
   ]
  },
  {
   "cell_type": "markdown",
   "metadata": {},
   "source": [
    "* Custom exceptions in python can de defined by creating a new class that is derived from the built-in Exception class."
   ]
  },
  {
   "cell_type": "markdown",
   "metadata": {},
   "source": [
    "* Python allows programmers to create User-defined Exceptions. To create a User-defined Exception, we need to create a class directly or indirectly derived from the built-in Exception class. Custom exception hierarchy allows you to catch exceptions at multiple levels, like the standard exception classes."
   ]
  },
  {
   "cell_type": "code",
   "execution_count": 82,
   "metadata": {},
   "outputs": [
    {
     "name": "stdout",
     "output_type": "stream",
     "text": [
      "enter your age-20\n",
      "age should not be lesser then zeor \n"
     ]
    }
   ],
   "source": [
    "# Example\n",
    "class validateage(Exception) : \n",
    "    def __init__(self, msg) :\n",
    "        self.msg = msg\n",
    "\n",
    "def validate_age(age) : \n",
    "    if age < 0 : \n",
    "        raise validateage(\"age should not be lesser then zeor \" )\n",
    "    elif age > 200 : \n",
    "        raise validateage(\"age is too high \" )\n",
    "        \n",
    "    else :\n",
    "        print(\"age is valid\" )\n",
    "try : \n",
    "    age = int(input(\"enter your age\"))\n",
    "    validate_age(age)\n",
    "except validateage as e : \n",
    "    print(e)"
   ]
  },
  {
   "cell_type": "code",
   "execution_count": 89,
   "metadata": {},
   "outputs": [
    {
     "name": "stdout",
     "output_type": "stream",
     "text": [
      "Enter Age: 20\n",
      "Age is valid\n"
     ]
    }
   ],
   "source": [
    "# Example \n",
    "class ValidateAgeError(Exception):\n",
    "    def __init__(self,Message):\n",
    "        self.msg=Message\n",
    "\n",
    "def validate_age(age):\n",
    "    if age < 0 : \n",
    "        raise ValidateAgeError(\"Age should not be lesser then zero \" )\n",
    "    elif age > 200 : \n",
    "        raise ValidateAgeError(\"Age should not be too high\")\n",
    "    else :\n",
    "        print(\"Age is valid\" )\n",
    "\n",
    "try:\n",
    "    age=int(input(\"Enter Age: \"))\n",
    "    validate_age(age)\n",
    "\n",
    "except ValidateAgeError as e:\n",
    "    print(\"Error-\",e)"
   ]
  },
  {
   "cell_type": "markdown",
   "metadata": {},
   "source": [
    "### Q6. Create a custom exception class . Use this class to handle exception"
   ]
  },
  {
   "cell_type": "code",
   "execution_count": 116,
   "metadata": {},
   "outputs": [
    {
     "name": "stdout",
     "output_type": "stream",
     "text": [
      "Enter Password:harshit\n",
      "Password length is less(must > 8 digits)\n"
     ]
    }
   ],
   "source": [
    "class PasswordError(Exception):\n",
    "    def __init__(self,Message):\n",
    "        self.msg=Message\n",
    "\n",
    "def Password_Validate(Password):\n",
    "    if len(Password)<8:\n",
    "        raise PasswordError(\"Password length is less(must > 8 digits)\")\n",
    "    else:\n",
    "        print(\"Password is Valid\")\n",
    "        \n",
    "try:\n",
    "    password=str(input(\"Enter Password:\"))\n",
    "    Password_Validate(password)\n",
    "except PasswordError as e:\n",
    "    print(e)"
   ]
  },
  {
   "cell_type": "code",
   "execution_count": null,
   "metadata": {},
   "outputs": [],
   "source": []
  }
 ],
 "metadata": {
  "kernelspec": {
   "display_name": "Python 3",
   "language": "python",
   "name": "python3"
  },
  "language_info": {
   "codemirror_mode": {
    "name": "ipython",
    "version": 3
   },
   "file_extension": ".py",
   "mimetype": "text/x-python",
   "name": "python",
   "nbconvert_exporter": "python",
   "pygments_lexer": "ipython3",
   "version": "3.8.5"
  }
 },
 "nbformat": 4,
 "nbformat_minor": 4
}

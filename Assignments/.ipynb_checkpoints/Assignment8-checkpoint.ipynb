{
 "cells": [
  {
   "cell_type": "markdown",
   "metadata": {},
   "source": [
    "### Q1. You are writing code for a company.The requirement of the company is that you create a python function that will check whether the password entered by the user is correct or not. The function should  take the password as input and return the string “Valid Password” if the entered password follows the  below-given password guidelines else it should return “Invalid Password”. \n",
    "\n",
    "* Note: \n",
    "1. The Password should contain at least two uppercase letters and at least two lowercase letters. \n",
    "2. The Password should contain at least a number and three special characters. \n",
    "3. The length of the password should be 10 characters long. "
   ]
  },
  {
   "cell_type": "code",
   "execution_count": 129,
   "metadata": {},
   "outputs": [],
   "source": [
    "def is_valid(password):\n",
    "    num_count=0\n",
    "    upper_count=0\n",
    "    lower_count=0\n",
    "    special_symbol_count=0\n",
    "    \n",
    "    for i in password:\n",
    "        if i.isnumeric():\n",
    "            num_count+=1\n",
    "\n",
    "        if i.isupper():\n",
    "            upper_count+=1\n",
    "\n",
    "        if i.islower():\n",
    "            lower_count+=1\n",
    "        \n",
    "        special_char_lst = \"[!@#$%^&*()_+-=,.<>/?;':[\\]{}|~]\"\n",
    "        if i in list(special_char_lst):\n",
    "            special_symbol_count+=1\n",
    "    \n",
    "        \n",
    "    if (upper_count>=2) and (lower_count>=2) and (num_count>=1) and (special_symbol_count>=3) and(len(password)==10):\n",
    "        return \"Valid Password\"\n",
    "    else:\n",
    "        return \"Invalid Password\""
   ]
  },
  {
   "cell_type": "code",
   "execution_count": 139,
   "metadata": {},
   "outputs": [
    {
     "data": {
      "text/plain": [
       "'Valid Password'"
      ]
     },
     "execution_count": 139,
     "metadata": {},
     "output_type": "execute_result"
    }
   ],
   "source": [
    "is_valid('H@R&h!t@09')"
   ]
  },
  {
   "cell_type": "markdown",
   "metadata": {},
   "source": [
    "### Q2. Solve the below-given questions using at least one of the following:  \n",
    "1. Lambda function\n",
    "2. Filter function \n",
    "3. Map function\n",
    "4. List Comprehension "
   ]
  },
  {
   "cell_type": "markdown",
   "metadata": {},
   "source": [
    "##### * Check if the string starts with a particular letter."
   ]
  },
  {
   "cell_type": "code",
   "execution_count": 163,
   "metadata": {},
   "outputs": [
    {
     "data": {
      "text/plain": [
       "'Start with digit'"
      ]
     },
     "execution_count": 163,
     "metadata": {},
     "output_type": "execute_result"
    }
   ],
   "source": [
    "# String starts with numeric \n",
    "string_start_with_numeric=lambda x:\"Start with digit\" if x[0].isnumeric() else \"Does not start with digit\"\n",
    "\n",
    "string_start_with_numeric(\"2017_Ford_Mustang_GT\")"
   ]
  },
  {
   "cell_type": "markdown",
   "metadata": {},
   "source": [
    "##### * Check if the string is numeric. "
   ]
  },
  {
   "cell_type": "code",
   "execution_count": 164,
   "metadata": {},
   "outputs": [
    {
     "data": {
      "text/plain": [
       "'String is numeric'"
      ]
     },
     "execution_count": 164,
     "metadata": {},
     "output_type": "execute_result"
    }
   ],
   "source": [
    "string=\"1912\"\n",
    "\n",
    "numeric_or_not=lambda x: \"String is numeric\" if x.isnumeric() else \"String is not numeric\"\n",
    "numeric_or_not(string)"
   ]
  },
  {
   "cell_type": "markdown",
   "metadata": {},
   "source": [
    "##### * Sort a list of tuples having fruit names and their quantity. [(\"mango\",99),(\"orange\",80), (\"grapes\", 1000)]"
   ]
  },
  {
   "cell_type": "code",
   "execution_count": 179,
   "metadata": {},
   "outputs": [
    {
     "name": "stdout",
     "output_type": "stream",
     "text": [
      "Sort using quantity names - [('orange', 80), ('mango', 99), ('grapes', 1000)]\n",
      "Sort using fruit names - [('grapes', 1000), ('mango', 99), ('orange', 80)]\n"
     ]
    }
   ],
   "source": [
    "List=[(\"mango\",99),(\"orange\",80), (\"grapes\", 1000)]\n",
    "\n",
    "print(\"Sort using quantity names -\",sorted(List,key=lambda x:x[1]))\n",
    "print(\"Sort using fruit names -\",sorted(List,key=lambda x:x[0]))"
   ]
  },
  {
   "cell_type": "markdown",
   "metadata": {},
   "source": [
    "##### * Find the square of numbers from 1 to 10"
   ]
  },
  {
   "cell_type": "code",
   "execution_count": 196,
   "metadata": {},
   "outputs": [
    {
     "data": {
      "text/plain": [
       "[1, 4, 9, 16, 25, 36, 49, 64, 81, 100]"
      ]
     },
     "execution_count": 196,
     "metadata": {},
     "output_type": "execute_result"
    }
   ],
   "source": [
    "squared = [i*i for i in range(1,11)]\n",
    "squared"
   ]
  },
  {
   "cell_type": "markdown",
   "metadata": {},
   "source": [
    "##### * Find the cube root of numbers from 1 to 10"
   ]
  },
  {
   "cell_type": "code",
   "execution_count": 181,
   "metadata": {},
   "outputs": [
    {
     "data": {
      "text/plain": [
       "[1.0,\n",
       " 1.2599210498948732,\n",
       " 1.4422495703074083,\n",
       " 1.5874010519681994,\n",
       " 1.7099759466766968,\n",
       " 1.8171205928321397,\n",
       " 1.912931182772389,\n",
       " 2.0,\n",
       " 2.080083823051904,\n",
       " 2.154434690031884]"
      ]
     },
     "execution_count": 181,
     "metadata": {},
     "output_type": "execute_result"
    }
   ],
   "source": [
    "List=[i for i in range(1,11)]\n",
    "\n",
    "list(map(lambda x:x**(1/3),List))"
   ]
  },
  {
   "cell_type": "markdown",
   "metadata": {},
   "source": [
    "#####  * Check if a given number is even"
   ]
  },
  {
   "cell_type": "code",
   "execution_count": 192,
   "metadata": {},
   "outputs": [
    {
     "data": {
      "text/plain": [
       "'No, 1839 is not even number'"
      ]
     },
     "execution_count": 192,
     "metadata": {},
     "output_type": "execute_result"
    }
   ],
   "source": [
    "even_or_not=lambda x:f\"Yes, {x} is even number\" if x%2==0 else f\"No, {x} is not even number\"\n",
    "\n",
    "even_or_not(1839)"
   ]
  },
  {
   "cell_type": "markdown",
   "metadata": {},
   "source": [
    "##### * Filter odd numbers from the given list-[1,2,3,4,5,6,7,8,9,10]"
   ]
  },
  {
   "cell_type": "code",
   "execution_count": 193,
   "metadata": {},
   "outputs": [
    {
     "data": {
      "text/plain": [
       "[1, 3, 5, 7, 9]"
      ]
     },
     "execution_count": 193,
     "metadata": {},
     "output_type": "execute_result"
    }
   ],
   "source": [
    "List=[1,2,3,4,5,6,7,8,9,10]\n",
    "\n",
    "list(filter(lambda x:x%2!=0,List))"
   ]
  },
  {
   "cell_type": "markdown",
   "metadata": {},
   "source": [
    "##### * Sort a list of integers into positive and negative integers lists-[1,2,3,4,5,6,-1,-2,-3,-4,-5,0]"
   ]
  },
  {
   "cell_type": "code",
   "execution_count": 195,
   "metadata": {},
   "outputs": [
    {
     "name": "stdout",
     "output_type": "stream",
     "text": [
      "Positive list -  [1, 2, 3, 4, 5, 6]\n",
      "Negative list -  [-1, -2, -3, -4, -5]\n"
     ]
    }
   ],
   "source": [
    "List=[1,2,3,4,5,6,-1,-2,-3,-4,-5,0]\n",
    "\n",
    "positive_list= list(filter(lambda x: x>0,List))\n",
    "negative_list= list(filter(lambda x: x<0,List))\n",
    "\n",
    "print(\"Positive list - \",positive_list)\n",
    "print(\"Negative list - \",negative_list)"
   ]
  },
  {
   "cell_type": "code",
   "execution_count": null,
   "metadata": {},
   "outputs": [],
   "source": []
  }
 ],
 "metadata": {
  "kernelspec": {
   "display_name": "Python 3",
   "language": "python",
   "name": "python3"
  },
  "language_info": {
   "codemirror_mode": {
    "name": "ipython",
    "version": 3
   },
   "file_extension": ".py",
   "mimetype": "text/x-python",
   "name": "python",
   "nbconvert_exporter": "python",
   "pygments_lexer": "ipython3",
   "version": "3.8.5"
  }
 },
 "nbformat": 4,
 "nbformat_minor": 4
}

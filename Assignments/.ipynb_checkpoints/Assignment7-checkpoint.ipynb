{
 "cells": [
  {
   "cell_type": "markdown",
   "metadata": {},
   "source": [
    "### Q1. Create a function which will take a list as an argument and return the product of all the numbers  after creating a flat list. \n",
    "* Use the below-given list as an argument for your function. \n",
    "* list1 = [1,2,3,4, [44,55,66, True], False, (34,56,78,89,34), {1,2,3,3,2,1}, {1:34, \"key2\": [55, 67, 78, 89], 4: (45,  22, 61, 34)}, [56, 'data science'], 'Machine Learning'] \n",
    "* Note: you must extract numeric keys and values of the dictionary also. \n"
   ]
  },
  {
   "cell_type": "code",
   "execution_count": 180,
   "metadata": {},
   "outputs": [],
   "source": [
    "list1 = [1,2,3,4, [44,55,66, True], False, (34,56,78,89,34), {1,2,3,3,2,1}, {1:34, \"key2\": [55, 67, 78, 89], 4: (45, 22, 61, 34)}, [56, 'data science'], 'Machine Learning']"
   ]
  },
  {
   "cell_type": "code",
   "execution_count": 181,
   "metadata": {},
   "outputs": [],
   "source": [
    "from functools import reduce\n",
    "\n",
    "def Product(list1):    \n",
    "    print(\"\\nOriginal list-\\n\",list1)\n",
    "    l=[]\n",
    "\n",
    "    for i in list1:\n",
    "        \n",
    "        if type(i)==int:\n",
    "            l.append(i) \n",
    "       \n",
    "        elif type(i) in [list,set,tuple]:\n",
    "            l.extend(list(filter(lambda x:type(x)==int,i)))\n",
    "       \n",
    "        elif type(i)==dict:\n",
    "            \n",
    "            for j in i.keys():\n",
    "                if type(j)==int:\n",
    "                    l.append(j)\n",
    "                \n",
    "            for j in i.values():\n",
    "                if type(j)==int:\n",
    "                    l.append(j) \n",
    "                elif type(j)==list:\n",
    "                    l.extend(list(filter(lambda x:type(x)==int,j)))\n",
    "                elif type(j)==tuple:\n",
    "                    l.extend(list(filter(lambda x:type(x)==int,j)))\n",
    "    \n",
    "    print('\\n\\nFlat list with only numerical values-\\n',l)\n",
    "                    \n",
    "    return reduce(lambda x,y:x*y,l)"
   ]
  },
  {
   "cell_type": "code",
   "execution_count": 182,
   "metadata": {},
   "outputs": [
    {
     "name": "stdout",
     "output_type": "stream",
     "text": [
      "\n",
      "Original list-\n",
      " [1, 2, 3, 4, [44, 55, 66, True], False, (34, 56, 78, 89, 34), {1, 2, 3}, {1: 34, 'key2': [55, 67, 78, 89], 4: (45, 22, 61, 34)}, [56, 'data science'], 'Machine Learning']\n",
      "\n",
      "\n",
      "Flat list with only numerical values-\n",
      " [1, 2, 3, 4, 44, 55, 66, 34, 56, 78, 89, 34, 1, 2, 3, 1, 4, 34, 55, 67, 78, 89, 45, 22, 61, 34, 56]\n",
      "\n",
      "Product of all the numbers of a list are - 4134711838987085478833841242112000\n"
     ]
    }
   ],
   "source": [
    "product=Product(list1)\n",
    "print(\"\\nProduct of all the numbers of a list are -\",product)"
   ]
  },
  {
   "cell_type": "markdown",
   "metadata": {},
   "source": [
    "### Q2. Write a python program for encrypting a message sent to you by your friend. The logic of encryption  should be such that, for a the output should be z. For b, the output should be y. For c, the output should  be x respectively. Also, the whitespace should be replaced with a dollar sign. Keep the punctuation  marks unchanged. \n",
    "* Input Sentence: I want to become a Data Scientist. \n",
    "* Encrypt the above input sentence using the program you just created. \n",
    "* Note: Convert the given input sentence into lowercase before encrypting. The final output should be  lowercase. \n"
   ]
  },
  {
   "cell_type": "code",
   "execution_count": 183,
   "metadata": {},
   "outputs": [],
   "source": [
    "def encrypt(s):\n",
    "    alphabet=['a','b','c','d','e','f','g','h','i','j','k','l','m','n','o','p','q','r','s','t','u','v','w','x','y','z']\n",
    "    reversed_alphabet=alphabet[::-1]\n",
    "\n",
    "    Dictionary=dict()\n",
    "    for i in range(26):\n",
    "        Dictionary.setdefault(alphabet[i],reversed_alphabet[i])\n",
    "\n",
    "    s=s.lower()\n",
    "    \n",
    "    encrypted_string=\"\"\n",
    "    for i in s:\n",
    "        if i==\" \":\n",
    "            encrypted_string+=\"$\"\n",
    "        elif i=='.':\n",
    "            encrypted_string+=\".\"\n",
    "        elif i in alphabet:\n",
    "            encrypted_string+=Dictionary[i]\n",
    "\n",
    "    return encrypted_string"
   ]
  },
  {
   "cell_type": "code",
   "execution_count": 184,
   "metadata": {},
   "outputs": [],
   "source": [
    "s='I want to become a Data Scientist.'\n",
    "encrypted_string=encrypt(s)"
   ]
  },
  {
   "cell_type": "code",
   "execution_count": 185,
   "metadata": {
    "scrolled": true
   },
   "outputs": [
    {
     "name": "stdout",
     "output_type": "stream",
     "text": [
      "Original string -  I want to become a Data Scientist.\n",
      "Encrypted string -  r$dzmg$gl$yvxlnv$z$wzgz$hxrvmgrhg.\n"
     ]
    }
   ],
   "source": [
    "print(\"Original string - \",s)\n",
    "print(\"Encrypted string - \",encrypted_string)"
   ]
  },
  {
   "cell_type": "code",
   "execution_count": null,
   "metadata": {},
   "outputs": [],
   "source": []
  }
 ],
 "metadata": {
  "kernelspec": {
   "display_name": "Python 3",
   "language": "python",
   "name": "python3"
  },
  "language_info": {
   "codemirror_mode": {
    "name": "ipython",
    "version": 3
   },
   "file_extension": ".py",
   "mimetype": "text/x-python",
   "name": "python",
   "nbconvert_exporter": "python",
   "pygments_lexer": "ipython3",
   "version": "3.8.5"
  }
 },
 "nbformat": 4,
 "nbformat_minor": 4
}

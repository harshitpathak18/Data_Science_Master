{
 "cells": [
  {
   "cell_type": "markdown",
   "metadata": {},
   "source": [
    "### Q1. What is an API? Give an example, where an API is used in real life."
   ]
  },
  {
   "cell_type": "markdown",
   "metadata": {},
   "source": [
    "* **API**- Application Programming Interface (API) is a software interface that allows two applications to interact with each other without any user intervention. API is a collection of software functions and procedures. In simple terms, API means a software code that can be accessed or executed. API is defined as a code that helps two different software’s to communicate and exchange data with each other.\n",
    "\n",
    "      Example-\n",
    "           Open Weather Map Api-It is an api used to forecast and check weather details \n",
    "           Link of Api- https://openweathermap.org/api"
   ]
  },
  {
   "cell_type": "code",
   "execution_count": 40,
   "metadata": {},
   "outputs": [
    {
     "name": "stdout",
     "output_type": "stream",
     "text": [
      "City - Chandigarh\n",
      "Temperature - 304.96 kelvin\n",
      "Humidity - 14%\n",
      "Pressure - 1014hPa\n"
     ]
    }
   ],
   "source": [
    "# Example\n",
    "import requests, json\n",
    "\n",
    "api_key = \"2652f12dcf2c30e356784a3854f5a039\"\n",
    "\n",
    "response = requests.get(\"http://api.openweathermap.org/data/2.5/weather?appid=\" + api_key + \"&q=\" + \"chandigarh\")\n",
    "res = response.json()\n",
    "\n",
    "print(\"City - Chandigarh\")\n",
    "print(f\"Temperature - {res['main']['temp']} kelvin\")\n",
    "print(f\"Humidity - {res['main']['humidity']}%\")\n",
    "print(f\"Pressure - {res['main']['pressure']}hPa\")"
   ]
  },
  {
   "cell_type": "markdown",
   "metadata": {},
   "source": [
    "### Q2. Give advantages and disadvantages of using API."
   ]
  },
  {
   "cell_type": "markdown",
   "metadata": {},
   "source": [
    "### Advantages - \n",
    "\n",
    "1. Interoperability: APIs enable different software systems to interact with each other seamlessly, regardless of their underlying technologies or programming languages. This allows for greater interoperability between systems and can lead to more efficient and effective software development.\n",
    "\n",
    "2. Flexibility: APIs allow developers to create applications that are flexible and customizable. Developers can choose the specific functionality they need from an API and incorporate it into their applications, rather than building that functionality from scratch.\n",
    "\n",
    "3. Time and cost savings: APIs can save time and money for developers and organizations by providing ready-made solutions that can be easily integrated into existing systems. This can reduce the amount of time and resources needed to build new software applications.\n",
    "\n",
    "4. Innovation: APIs can spur innovation by allowing developers to create new applications that integrate with existing systems. This can lead to the development of new products and services that might not have been possible without APIs.\n",
    "          \n",
    "### Disadvantages- \n",
    "1. Complexity: APIs can be complex to use and require technical expertise to implement and maintain. This can make it challenging for non-technical users to integrate with them.\n",
    "\n",
    "2. Security Risks: APIs can introduce security risks, such as data breaches or unauthorized access to sensitive data, if not implemented properly or if security protocols are not followed.\n",
    "\n",
    "3. Dependency: When an application relies heavily on a third-party API, it can create a dependency on that API. Any changes or disruptions to the API can have a significant impact on the application, leading to downtime or other issues.\n",
    "\n",
    "4. Limited functionality: APIs may not always provide all the functionality needed for a particular application. In such cases, developers may need to build custom solutions, which can be time-consuming and costly.\n",
    "\n"
   ]
  },
  {
   "cell_type": "markdown",
   "metadata": {},
   "source": [
    "### Q3. What is a Web API? Differentiate between API and Web API."
   ]
  },
  {
   "cell_type": "markdown",
   "metadata": {},
   "source": [
    "* **Web API** is an API over the web which can be accessed using HTTP protocol. It is a concept and not a technology. We can build Web API using different technologies such as Java, .NET etc. For example, Twitter's REST APIs provide programmatic access to read and write data using which we can integrate twitter's capabilities into our own application."
   ]
  },
  {
   "cell_type": "markdown",
   "metadata": {},
   "source": [
    "#### API VS Web API.\n",
    "\n",
    "|Features|API|Web API|\n",
    "|-|-|-|\n",
    "|Access|Can be accessed through various channels, including desktop applications, mobile apps, and embedded systems|Specifically designed to be accessed over the web using HTTP\n",
    "|Protocol|May use different communication protocols and data formats depending on their design|Typically use standard web technologies such as REST or SOAP\n",
    "|Resource|Can provide access to various types of services and resources, such as operating system functions, hardware devices, or databases|Provide access to web-based services and resources such as databases, file systems, or other web services\n",
    "|Integration|Can be integrated with a wide range of software systems and applications|Often integrated with web-based software systems and applications\n",
    "|Security|Security protocols can vary depending on the design and implementation of the API|Typically use standard web security protocols such as OAuth or SSL/TLS\n",
    "|Examples|Operating system APIs, hardware APIs, database APIs, etc.|AlphaVantage API, Google Maps API, Twitter API, Facebook API, etc.\n",
    "\n"
   ]
  },
  {
   "cell_type": "markdown",
   "metadata": {},
   "source": [
    "### Q4. Explain REST and SOAP Architecture. Mention shortcomings of SOAP."
   ]
  },
  {
   "cell_type": "markdown",
   "metadata": {},
   "source": [
    "#### REST-\n",
    "It stands for REpresentational State Transfer and API stands for Application Program Interface. REST is a software architectural style that defines the set of rules to be used for creating web services. Web services which follow the REST architectural style are known as RESTful web services. It allows requesting systems to access and manipulate web resources by using a uniform and predefined set of rules. Interaction in REST based systems happen through Internet’s Hypertext Transfer Protocol (HTTP). \n",
    "\n",
    "\n",
    "\n",
    "#### Simple Object Access Protocol - \n",
    "SOAP is a network protocol for exchanging structured data between nodes. It uses XML format to transfer messages. It works on top of application layer protocols like HTML and SMTP for notations and transmission. SOAP allows processes to communicate throughout platforms, languages and operating systems, since protocols like HTTP are already installed on all platforms.\n",
    "\n",
    "\n",
    "\n",
    "\n",
    "#### Shortcomings of SOAP-\n",
    "1. SOAP is used only XML format data in web service, whereas JSON and other lightweight formats are not supported by it.\n",
    "2. It is slow because it uses XML format, whereas the payload for a simple string message is large.\n",
    "3. There are no security features in the SOAP specification.\n",
    "4. There is no state reference for the remote object in the SOAP client."
   ]
  },
  {
   "cell_type": "markdown",
   "metadata": {},
   "source": [
    "### Q5: Differentiate between REST and SOAP."
   ]
  },
  {
   "cell_type": "markdown",
   "metadata": {},
   "source": [
    "|Sr.No|SOAP|REST|\n",
    "|-|-|-|\n",
    "|1\t|SOAP is a protocol.|\tREST is an architectural style.\n",
    "|2\t|SOAP stands for Simple Object Access Protocol.|\tREST stands for REpresentational State Transfer.|\n",
    "|3  |SOAP can't use REST because it is a protocol.|\tREST can use SOAP web services because it is a concept and can use any protocol like HTTP, SOAP.|\n",
    "|4  |SOAP uses services interfaces to expose the business logic.|\tREST uses URI to expose business logic.|\n",
    "|5  |JAX-WS is the java API for SOAP web services.|\tJAX-RS is the java API for RESTful web services.|\n",
    "|6  |SOAP defines standards to be strictly followed.|\tREST does not define too much standards like SOAP.|\n",
    "|7\t|SOAP requires more bandwidth and resource than REST.|\tREST requires less bandwidth and resource than SOAP.|\n",
    "|8\t|SOAP defines its own security.|\tRESTful web services inherits security measures from the underlying transport.|\n",
    "|9\t|SOAP permits XML data format only.|\tREST permits different data format such as Plain text, HTML, XML, JSON etc.|\n",
    "|10\t|SOAP is less preferred than REST.|\tREST more preferred than SOAP.|"
   ]
  },
  {
   "cell_type": "code",
   "execution_count": null,
   "metadata": {},
   "outputs": [],
   "source": []
  }
 ],
 "metadata": {
  "kernelspec": {
   "display_name": "Python 3",
   "language": "python",
   "name": "python3"
  },
  "language_info": {
   "codemirror_mode": {
    "name": "ipython",
    "version": 3
   },
   "file_extension": ".py",
   "mimetype": "text/x-python",
   "name": "python",
   "nbconvert_exporter": "python",
   "pygments_lexer": "ipython3",
   "version": "3.8.5"
  }
 },
 "nbformat": 4,
 "nbformat_minor": 4
}

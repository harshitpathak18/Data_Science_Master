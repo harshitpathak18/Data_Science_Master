{
 "cells": [
  {
   "cell_type": "markdown",
   "metadata": {},
   "source": [
    "### 1. Write a programme to accept percentage from the user and display the grade according to the following criteria.\n",
    "\n",
    "|Marks | Grade|\n",
    "|-|-|\n",
    "|**>90**|A|\n",
    "|**>80 and <=90**|B|\n",
    "|**>=60 and <=80**|C| \n",
    "|**<60**|D|"
   ]
  },
  {
   "cell_type": "code",
   "execution_count": 101,
   "metadata": {},
   "outputs": [
    {
     "name": "stdout",
     "output_type": "stream",
     "text": [
      "Enter Percentage: 98\n",
      "Grade: A\n"
     ]
    }
   ],
   "source": [
    "percentage=float(input(\"Enter Percentage: \"))\n",
    "\n",
    "if percentage>90:\n",
    "    print('Grade: A')\n",
    "elif percentage>80 and percentage<=90:\n",
    "    print('Grade: B')\n",
    "elif percentage>=60 and percentage<=80:\n",
    "    print('Grade: C')\n",
    "else:\n",
    "    print('Grade: D')\n",
    "        "
   ]
  },
  {
   "cell_type": "markdown",
   "metadata": {},
   "source": [
    "### 2. Write a programme to accept cost price of a bike and display the road tax to be paid according to the following criteria.\n",
    "\n",
    "|Tax | Cost Price (Rs.)|\n",
    "|-|-|\n",
    "|**15%**|>100000|\n",
    "|**10%**|>50000 and <=100000|\n",
    "|**5%**|<=50000| "
   ]
  },
  {
   "cell_type": "code",
   "execution_count": 102,
   "metadata": {},
   "outputs": [
    {
     "name": "stdout",
     "output_type": "stream",
     "text": [
      "Enter Price of Bike: 15000\n",
      "Road tax to be paid 750.0\n"
     ]
    }
   ],
   "source": [
    "bike_cost=int(input(\"Enter Price of Bike: \"))\n",
    "\n",
    "if bike_cost>100000:\n",
    "    print(f\"Road tax to be paid {bike_cost*(15/100)}\")\n",
    "elif bike_cost>50000 and bike_cost<=100000:\n",
    "    print(f\"Road tax to be paid {bike_cost*(10/100)}\")\n",
    "elif bike_cost<=50000:\n",
    "    print(f\"Road tax to be paid {bike_cost*(5/100)}\")"
   ]
  },
  {
   "cell_type": "markdown",
   "metadata": {},
   "source": [
    "### 3. Accept any city from user and display monumnet of that city.\n",
    "|City | Monument |\n",
    "|-|-|\n",
    "|**Delhi**|Red Fort|\n",
    "|**Agra**|Taj Mahal|\n",
    "|**Jaipur**|Jal Mahal| "
   ]
  },
  {
   "cell_type": "code",
   "execution_count": 103,
   "metadata": {},
   "outputs": [
    {
     "name": "stdout",
     "output_type": "stream",
     "text": [
      "Enter City Name: delhi\n",
      "Monument- Red Fort\n"
     ]
    }
   ],
   "source": [
    "city_monuments={\n",
    "    \"Delhi\":\"Red Fort\",\n",
    "    \"Agra\":\"Taj Mahal\",\n",
    "    \"Jaipur\":\"Jal Mahal\"\n",
    "}\n",
    "\n",
    "city=str(input(\"Enter City Name: \")).capitalize()\n",
    "\n",
    "print(\"Monument-\",city_monuments[city])"
   ]
  },
  {
   "cell_type": "markdown",
   "metadata": {},
   "source": [
    "### 4. Check how many times a given number can be divided by 3 before it is less than or equal to 10."
   ]
  },
  {
   "cell_type": "code",
   "execution_count": 104,
   "metadata": {},
   "outputs": [
    {
     "name": "stdout",
     "output_type": "stream",
     "text": [
      "Enter a number: 200\n",
      "Number can be divided by 3 for 2 times\n"
     ]
    }
   ],
   "source": [
    "number=int(input(\"Enter a number: \"))\n",
    "\n",
    "count=0\n",
    "while(number/3>=10):\n",
    "    count=count+1\n",
    "    number=number/3\n",
    "    \n",
    "print(f\"Number can be divided by 3 for {count} times\")"
   ]
  },
  {
   "cell_type": "markdown",
   "metadata": {},
   "source": [
    "### 5. Why and When to Use while Loop in Python give a detailed description with example \n"
   ]
  },
  {
   "cell_type": "markdown",
   "metadata": {},
   "source": [
    "While Loop in Python is used to execute a block of statements repeatedly until a given condition is satisfied. And when the condition becomes false, the line immediately after the loop in the program is executed.\n",
    "It is used when we have to iterate until condition become false"
   ]
  },
  {
   "cell_type": "code",
   "execution_count": 105,
   "metadata": {},
   "outputs": [
    {
     "name": "stdout",
     "output_type": "stream",
     "text": [
      "16\n",
      "14\n",
      "12\n"
     ]
    }
   ],
   "source": [
    "# Example- Here if the num>10, the statement inside while loop will be executed\n",
    "\n",
    "num=16\n",
    "while(num>10):\n",
    "    print(num)  # print num\n",
    "    num=num-2   # update num"
   ]
  },
  {
   "cell_type": "markdown",
   "metadata": {},
   "source": [
    "### 6. Use nested while loop to print 3 different pattern."
   ]
  },
  {
   "cell_type": "code",
   "execution_count": 106,
   "metadata": {},
   "outputs": [
    {
     "name": "stdout",
     "output_type": "stream",
     "text": [
      "Pattern 1- Right Angled Triangle\n",
      "*  \n",
      "* *  \n",
      "* * *  \n",
      "* * * *  \n",
      "* * * * *  \n",
      "* * * * * *  \n",
      "\n",
      "Pattern 2- Inverted Right Angled Triangle\n",
      "* * * * * *  \n",
      "* * * * *  \n",
      "* * * *  \n",
      "* * *  \n",
      "* *  \n",
      "*  \n",
      "\n",
      "Pattern 3- Square\n",
      "* * * * * *  \n",
      "* * * * * *  \n",
      "* * * * * *  \n",
      "* * * * * *  \n",
      "* * * * * *  \n",
      "* * * * * *  \n"
     ]
    }
   ],
   "source": [
    "# pattern 1    \n",
    "print(\"Pattern 1- Right Angled Triangle\")\n",
    "i=0\n",
    "while(i<=5):\n",
    "    j=0\n",
    "    while(j<=i):\n",
    "        print(\"*\",end=\" \")\n",
    "        j=j+1\n",
    "    print(\" \")\n",
    "    i=i+1\n",
    "    \n",
    "\n",
    "# pattern 2\n",
    "print(\"\\nPattern 2- Inverted Right Angled Triangle\")\n",
    "i=6\n",
    "while(i):\n",
    "    j=i\n",
    "    while(j):\n",
    "        print(\"*\",end=\" \")\n",
    "        j=j-1\n",
    "    print(\" \")\n",
    "    i=i-1\n",
    "\n",
    "# pattern 3\n",
    "print(\"\\nPattern 3- Square\")\n",
    "i=6\n",
    "while(i):\n",
    "    j=6\n",
    "    while(j):\n",
    "        print(\"*\",end=\" \")\n",
    "        j=j-1\n",
    "    print(\" \")\n",
    "    i=i-1"
   ]
  },
  {
   "cell_type": "markdown",
   "metadata": {},
   "source": [
    "### 7. Reverse a while loop to display numbers from 10 to 1. \n"
   ]
  },
  {
   "cell_type": "code",
   "execution_count": 107,
   "metadata": {},
   "outputs": [
    {
     "name": "stdout",
     "output_type": "stream",
     "text": [
      "10\n",
      "9\n",
      "8\n",
      "7\n",
      "6\n",
      "5\n",
      "4\n",
      "3\n",
      "2\n",
      "1\n"
     ]
    }
   ],
   "source": [
    "i=10\n",
    "while(i>=1):\n",
    "    print(i)\n",
    "    i=i-1"
   ]
  },
  {
   "cell_type": "markdown",
   "metadata": {},
   "source": [
    "### 8. Reverse a while loop to display numbers from 10 to 1. \n"
   ]
  },
  {
   "cell_type": "code",
   "execution_count": 108,
   "metadata": {},
   "outputs": [
    {
     "name": "stdout",
     "output_type": "stream",
     "text": [
      "10\n",
      "9\n",
      "8\n",
      "7\n",
      "6\n",
      "5\n",
      "4\n",
      "3\n",
      "2\n",
      "1\n"
     ]
    }
   ],
   "source": [
    "i=10\n",
    "while(i>=1):\n",
    "    print(i)\n",
    "    i=i-1"
   ]
  },
  {
   "cell_type": "code",
   "execution_count": null,
   "metadata": {},
   "outputs": [],
   "source": []
  },
  {
   "cell_type": "code",
   "execution_count": null,
   "metadata": {},
   "outputs": [],
   "source": []
  }
 ],
 "metadata": {
  "kernelspec": {
   "display_name": "Python 3",
   "language": "python",
   "name": "python3"
  },
  "language_info": {
   "codemirror_mode": {
    "name": "ipython",
    "version": 3
   },
   "file_extension": ".py",
   "mimetype": "text/x-python",
   "name": "python",
   "nbconvert_exporter": "python",
   "pygments_lexer": "ipython3",
   "version": "3.8.5"
  }
 },
 "nbformat": 4,
 "nbformat_minor": 4
}

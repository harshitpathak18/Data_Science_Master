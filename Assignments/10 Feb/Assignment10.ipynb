{
 "cells": [
  {
   "cell_type": "markdown",
   "metadata": {},
   "source": [
    "### Q1. Which function is used to open a file? What are the different modes of opening a file? Explain each mode of file opening."
   ]
  },
  {
   "cell_type": "markdown",
   "metadata": {},
   "source": [
    "* open() function is used to open a file\n",
    "* Different mode of opening file are:-\n",
    "    1. \"r\" - Read - Default value. Opens a file for reading, error if the file does not exist\n",
    "    2. \"a\" - Append - Opens a file for appending, creates the file if it does not exist\n",
    "    3. \"w\" - Write - Opens a file for writing, creates the file if it does not exist\n",
    "    4. \"x\" - Create - Creates the specified file, returns an error if the file exists\n",
    "    \n",
    "    \n",
    "    In addition you can specify if the file should be handled as binary or text mode\n",
    "    1. \"t\" - Text - Default value.\n",
    "    2. \"b\" - Binary - Binary mode (e.g. images)"
   ]
  },
  {
   "cell_type": "markdown",
   "metadata": {},
   "source": [
    "### Q2. Why close() function is used? Why is it important to close a file?"
   ]
  },
  {
   "cell_type": "markdown",
   "metadata": {},
   "source": [
    "* The close() function is used to close a file that has been opened,It is important to close a file after it has been opened because it frees up system resources that were being used by the file, it also flushes any unwritten information and closes the file object, after which no more writing can be done. \n",
    "\n",
    "\n",
    "* It is important to close a file after it has been opened to free up system resources, prevent file corruption or memory leaks, ensure that data is properly saved, and leave the file in a consistent state."
   ]
  },
  {
   "cell_type": "markdown",
   "metadata": {},
   "source": [
    "### Q3. Write a python program to create a text file. Write ‘I want to become a Data Scientist’ in that file. Then close the file. Open this file and read the content of the file."
   ]
  },
  {
   "cell_type": "code",
   "execution_count": 36,
   "metadata": {},
   "outputs": [],
   "source": [
    "# create, write and then close file\n",
    "with open(\"text.txt\",'w') as file:\n",
    "    file.write(\"I want to become a Data Scientist\")\n",
    "    file.close()"
   ]
  },
  {
   "cell_type": "code",
   "execution_count": 37,
   "metadata": {},
   "outputs": [
    {
     "name": "stdout",
     "output_type": "stream",
     "text": [
      "I want to become a Data Scientist\n"
     ]
    }
   ],
   "source": [
    "# read file\n",
    "with open(\"text.txt\",'r') as file:\n",
    "    print(file.read())"
   ]
  },
  {
   "cell_type": "markdown",
   "metadata": {},
   "source": [
    "### Q4. Explain the following with python code: read(), readline() and readlines()."
   ]
  },
  {
   "cell_type": "code",
   "execution_count": 38,
   "metadata": {},
   "outputs": [
    {
     "name": "stdout",
     "output_type": "stream",
     "text": [
      "Line 1\n",
      "Line 2\n",
      "Line 3\n",
      "Line 4\n"
     ]
    }
   ],
   "source": [
    "# read() method returns the specified number of bytes from the file. Default is -1 which means the whole file.\n",
    "with open('file.txt','r') as file:\n",
    "    read=file.read()\n",
    "    print(read)"
   ]
  },
  {
   "cell_type": "code",
   "execution_count": 39,
   "metadata": {},
   "outputs": [
    {
     "name": "stdout",
     "output_type": "stream",
     "text": [
      "Line 1\n",
      "\n"
     ]
    }
   ],
   "source": [
    "# readline() method returns one line from the file.\n",
    "with open('file.txt','r') as file:\n",
    "    read_line=file.readline()\n",
    "    print(read_line)"
   ]
  },
  {
   "cell_type": "code",
   "execution_count": 40,
   "metadata": {},
   "outputs": [
    {
     "name": "stdout",
     "output_type": "stream",
     "text": [
      "['Line 1\\n', 'Line 2\\n', 'Line 3\\n', 'Line 4']\n"
     ]
    }
   ],
   "source": [
    "# readlines() method returns a list containing each line in the file as a list item.\n",
    "with open('file.txt','r') as file:\n",
    "    read_lines=file.readlines()\n",
    "    print(read_lines)"
   ]
  },
  {
   "cell_type": "markdown",
   "metadata": {},
   "source": [
    "### Q5. Explain why with statement is used with open(). What is the advantage of using with statement and open() together?"
   ]
  },
  {
   "cell_type": "markdown",
   "metadata": {},
   "source": [
    "* with statement is used with open() because when with block ends, it will automatically close the file.\n",
    "\n",
    "* Advantage of using “with statement” and open () together because of that there will be fewer chances of bug due to coding error. No need to explicitly close the opened file, “with statement” takes care of that. This helps to avoid common errors that can occur when working with files, such as leaving a file open for too long, which can lead to issues such as file corruption or memory leaks."
   ]
  },
  {
   "cell_type": "markdown",
   "metadata": {},
   "source": [
    "### Q6. Explain the write() and writelines() functions. Give a suitable example."
   ]
  },
  {
   "cell_type": "markdown",
   "metadata": {},
   "source": [
    "* write() method writes a specified text to the file.\n",
    "* writelines() method writes the items of a list to the file."
   ]
  },
  {
   "cell_type": "code",
   "execution_count": 41,
   "metadata": {},
   "outputs": [
    {
     "name": "stdout",
     "output_type": "stream",
     "text": [
      "The write() method writes a specified text to the file.\n"
     ]
    }
   ],
   "source": [
    "# write()\n",
    "with open(\"file1.txt\",'w') as f:\n",
    "    f.write(\"The write() method writes a specified text to the file.\")\n",
    "    \n",
    "with open(\"file1.txt\",'r') as f:\n",
    "    print(f.read())"
   ]
  },
  {
   "cell_type": "code",
   "execution_count": 42,
   "metadata": {},
   "outputs": [
    {
     "name": "stdout",
     "output_type": "stream",
     "text": [
      "The writelines() method writes the items of a list to the file\n"
     ]
    }
   ],
   "source": [
    "# writelines()\n",
    "with open(\"file1.txt\",'w') as f:\n",
    "    List=[\"The \", \"writelines() \",\"method \",\"writes \",\"the \",\"items \",\"of \",\"a \",\"list \",\"to \",\"the \",\"file\"]\n",
    "    f.writelines(List)\n",
    "\n",
    "with open(\"file1.txt\",'r') as f:\n",
    "    print(f.read())"
   ]
  },
  {
   "cell_type": "code",
   "execution_count": null,
   "metadata": {},
   "outputs": [],
   "source": []
  }
 ],
 "metadata": {
  "kernelspec": {
   "display_name": "Python 3",
   "language": "python",
   "name": "python3"
  },
  "language_info": {
   "codemirror_mode": {
    "name": "ipython",
    "version": 3
   },
   "file_extension": ".py",
   "mimetype": "text/x-python",
   "name": "python",
   "nbconvert_exporter": "python",
   "pygments_lexer": "ipython3",
   "version": "3.8.5"
  }
 },
 "nbformat": 4,
 "nbformat_minor": 4
}
